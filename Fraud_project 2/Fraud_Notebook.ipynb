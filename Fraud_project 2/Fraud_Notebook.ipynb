{
 "cells": [
  {
   "cell_type": "markdown",
   "id": "0fddb619",
   "metadata": {},
   "source": [
    "# Etape 1: Teléchargement des données\n",
    "La table de données contient 10 variables explicatives et une variable cible 'is-fraud'"
   ]
  },
  {
   "cell_type": "code",
   "execution_count": 2,
   "id": "48cb2156",
   "metadata": {},
   "outputs": [],
   "source": [
    "#importation des packages nécessaires à l'importation, la manipulation,l'exploration,l'analyse et la compréhension des données\n",
    "import numpy as np\n",
    "import pandas as pd\n",
    "from pandas import Series, DataFrame"
   ]
  },
  {
   "cell_type": "code",
   "execution_count": 4,
   "id": "317a8a2f",
   "metadata": {},
   "outputs": [
    {
     "ename": "ModuleNotFoundError",
     "evalue": "No module named 'seaborn'",
     "output_type": "error",
     "traceback": [
      "\u001b[0;31m---------------------------------------------------------------------------\u001b[0m",
      "\u001b[0;31mModuleNotFoundError\u001b[0m                       Traceback (most recent call last)",
      "Cell \u001b[0;32mIn [4], line 2\u001b[0m\n\u001b[1;32m      1\u001b[0m \u001b[39m#importation des packages nécessaires à la visualisation des données\u001b[39;00m\n\u001b[0;32m----> 2\u001b[0m \u001b[39mimport\u001b[39;00m \u001b[39mseaborn\u001b[39;00m \u001b[39mas\u001b[39;00m \u001b[39msns\u001b[39;00m\n\u001b[1;32m      3\u001b[0m \u001b[39mimport\u001b[39;00m \u001b[39mmatplotlib\u001b[39;00m \u001b[39mas\u001b[39;00m \u001b[39mplt\u001b[39;00m\n\u001b[1;32m      4\u001b[0m \u001b[39mimport\u001b[39;00m \u001b[39mmatplotlib\u001b[39;00m\u001b[39m.\u001b[39;00m\u001b[39mpyplot\u001b[39;00m \u001b[39mas\u001b[39;00m \u001b[39mplt\u001b[39;00m\n",
      "\u001b[0;31mModuleNotFoundError\u001b[0m: No module named 'seaborn'"
     ]
    }
   ],
   "source": [
    "#importation des packages nécessaires à la visualisation des données\n",
    "import seaborn as sns\n",
    "import matplotlib as plt\n",
    "import matplotlib.pyplot as plt\n",
    "#indispensable pour l'affichage des graphs dans Jupyter\n",
    "%matplotlib inline"
   ]
  },
  {
   "cell_type": "code",
   "execution_count": 5,
   "id": "afbfae37",
   "metadata": {
    "scrolled": true
   },
   "outputs": [
    {
     "ename": "URLError",
     "evalue": "<urlopen error [SSL: CERTIFICATE_VERIFY_FAILED] certificate verify failed: unable to get local issuer certificate (_ssl.c:997)>",
     "output_type": "error",
     "traceback": [
      "\u001b[0;31m---------------------------------------------------------------------------\u001b[0m",
      "\u001b[0;31mSSLCertVerificationError\u001b[0m                  Traceback (most recent call last)",
      "File \u001b[0;32m/Library/Frameworks/Python.framework/Versions/3.10/lib/python3.10/urllib/request.py:1348\u001b[0m, in \u001b[0;36mAbstractHTTPHandler.do_open\u001b[0;34m(self, http_class, req, **http_conn_args)\u001b[0m\n\u001b[1;32m   1347\u001b[0m \u001b[39mtry\u001b[39;00m:\n\u001b[0;32m-> 1348\u001b[0m     h\u001b[39m.\u001b[39;49mrequest(req\u001b[39m.\u001b[39;49mget_method(), req\u001b[39m.\u001b[39;49mselector, req\u001b[39m.\u001b[39;49mdata, headers,\n\u001b[1;32m   1349\u001b[0m               encode_chunked\u001b[39m=\u001b[39;49mreq\u001b[39m.\u001b[39;49mhas_header(\u001b[39m'\u001b[39;49m\u001b[39mTransfer-encoding\u001b[39;49m\u001b[39m'\u001b[39;49m))\n\u001b[1;32m   1350\u001b[0m \u001b[39mexcept\u001b[39;00m \u001b[39mOSError\u001b[39;00m \u001b[39mas\u001b[39;00m err: \u001b[39m# timeout error\u001b[39;00m\n",
      "File \u001b[0;32m/Library/Frameworks/Python.framework/Versions/3.10/lib/python3.10/http/client.py:1282\u001b[0m, in \u001b[0;36mHTTPConnection.request\u001b[0;34m(self, method, url, body, headers, encode_chunked)\u001b[0m\n\u001b[1;32m   1281\u001b[0m \u001b[39m\"\"\"Send a complete request to the server.\"\"\"\u001b[39;00m\n\u001b[0;32m-> 1282\u001b[0m \u001b[39mself\u001b[39;49m\u001b[39m.\u001b[39;49m_send_request(method, url, body, headers, encode_chunked)\n",
      "File \u001b[0;32m/Library/Frameworks/Python.framework/Versions/3.10/lib/python3.10/http/client.py:1328\u001b[0m, in \u001b[0;36mHTTPConnection._send_request\u001b[0;34m(self, method, url, body, headers, encode_chunked)\u001b[0m\n\u001b[1;32m   1327\u001b[0m     body \u001b[39m=\u001b[39m _encode(body, \u001b[39m'\u001b[39m\u001b[39mbody\u001b[39m\u001b[39m'\u001b[39m)\n\u001b[0;32m-> 1328\u001b[0m \u001b[39mself\u001b[39;49m\u001b[39m.\u001b[39;49mendheaders(body, encode_chunked\u001b[39m=\u001b[39;49mencode_chunked)\n",
      "File \u001b[0;32m/Library/Frameworks/Python.framework/Versions/3.10/lib/python3.10/http/client.py:1277\u001b[0m, in \u001b[0;36mHTTPConnection.endheaders\u001b[0;34m(self, message_body, encode_chunked)\u001b[0m\n\u001b[1;32m   1276\u001b[0m     \u001b[39mraise\u001b[39;00m CannotSendHeader()\n\u001b[0;32m-> 1277\u001b[0m \u001b[39mself\u001b[39;49m\u001b[39m.\u001b[39;49m_send_output(message_body, encode_chunked\u001b[39m=\u001b[39;49mencode_chunked)\n",
      "File \u001b[0;32m/Library/Frameworks/Python.framework/Versions/3.10/lib/python3.10/http/client.py:1037\u001b[0m, in \u001b[0;36mHTTPConnection._send_output\u001b[0;34m(self, message_body, encode_chunked)\u001b[0m\n\u001b[1;32m   1036\u001b[0m \u001b[39mdel\u001b[39;00m \u001b[39mself\u001b[39m\u001b[39m.\u001b[39m_buffer[:]\n\u001b[0;32m-> 1037\u001b[0m \u001b[39mself\u001b[39;49m\u001b[39m.\u001b[39;49msend(msg)\n\u001b[1;32m   1039\u001b[0m \u001b[39mif\u001b[39;00m message_body \u001b[39mis\u001b[39;00m \u001b[39mnot\u001b[39;00m \u001b[39mNone\u001b[39;00m:\n\u001b[1;32m   1040\u001b[0m \n\u001b[1;32m   1041\u001b[0m     \u001b[39m# create a consistent interface to message_body\u001b[39;00m\n",
      "File \u001b[0;32m/Library/Frameworks/Python.framework/Versions/3.10/lib/python3.10/http/client.py:975\u001b[0m, in \u001b[0;36mHTTPConnection.send\u001b[0;34m(self, data)\u001b[0m\n\u001b[1;32m    974\u001b[0m \u001b[39mif\u001b[39;00m \u001b[39mself\u001b[39m\u001b[39m.\u001b[39mauto_open:\n\u001b[0;32m--> 975\u001b[0m     \u001b[39mself\u001b[39;49m\u001b[39m.\u001b[39;49mconnect()\n\u001b[1;32m    976\u001b[0m \u001b[39melse\u001b[39;00m:\n",
      "File \u001b[0;32m/Library/Frameworks/Python.framework/Versions/3.10/lib/python3.10/http/client.py:1454\u001b[0m, in \u001b[0;36mHTTPSConnection.connect\u001b[0;34m(self)\u001b[0m\n\u001b[1;32m   1452\u001b[0m     server_hostname \u001b[39m=\u001b[39m \u001b[39mself\u001b[39m\u001b[39m.\u001b[39mhost\n\u001b[0;32m-> 1454\u001b[0m \u001b[39mself\u001b[39m\u001b[39m.\u001b[39msock \u001b[39m=\u001b[39m \u001b[39mself\u001b[39;49m\u001b[39m.\u001b[39;49m_context\u001b[39m.\u001b[39;49mwrap_socket(\u001b[39mself\u001b[39;49m\u001b[39m.\u001b[39;49msock,\n\u001b[1;32m   1455\u001b[0m                                       server_hostname\u001b[39m=\u001b[39;49mserver_hostname)\n",
      "File \u001b[0;32m/Library/Frameworks/Python.framework/Versions/3.10/lib/python3.10/ssl.py:512\u001b[0m, in \u001b[0;36mSSLContext.wrap_socket\u001b[0;34m(self, sock, server_side, do_handshake_on_connect, suppress_ragged_eofs, server_hostname, session)\u001b[0m\n\u001b[1;32m    506\u001b[0m \u001b[39mdef\u001b[39;00m \u001b[39mwrap_socket\u001b[39m(\u001b[39mself\u001b[39m, sock, server_side\u001b[39m=\u001b[39m\u001b[39mFalse\u001b[39;00m,\n\u001b[1;32m    507\u001b[0m                 do_handshake_on_connect\u001b[39m=\u001b[39m\u001b[39mTrue\u001b[39;00m,\n\u001b[1;32m    508\u001b[0m                 suppress_ragged_eofs\u001b[39m=\u001b[39m\u001b[39mTrue\u001b[39;00m,\n\u001b[1;32m    509\u001b[0m                 server_hostname\u001b[39m=\u001b[39m\u001b[39mNone\u001b[39;00m, session\u001b[39m=\u001b[39m\u001b[39mNone\u001b[39;00m):\n\u001b[1;32m    510\u001b[0m     \u001b[39m# SSLSocket class handles server_hostname encoding before it calls\u001b[39;00m\n\u001b[1;32m    511\u001b[0m     \u001b[39m# ctx._wrap_socket()\u001b[39;00m\n\u001b[0;32m--> 512\u001b[0m     \u001b[39mreturn\u001b[39;00m \u001b[39mself\u001b[39;49m\u001b[39m.\u001b[39;49msslsocket_class\u001b[39m.\u001b[39;49m_create(\n\u001b[1;32m    513\u001b[0m         sock\u001b[39m=\u001b[39;49msock,\n\u001b[1;32m    514\u001b[0m         server_side\u001b[39m=\u001b[39;49mserver_side,\n\u001b[1;32m    515\u001b[0m         do_handshake_on_connect\u001b[39m=\u001b[39;49mdo_handshake_on_connect,\n\u001b[1;32m    516\u001b[0m         suppress_ragged_eofs\u001b[39m=\u001b[39;49msuppress_ragged_eofs,\n\u001b[1;32m    517\u001b[0m         server_hostname\u001b[39m=\u001b[39;49mserver_hostname,\n\u001b[1;32m    518\u001b[0m         context\u001b[39m=\u001b[39;49m\u001b[39mself\u001b[39;49m,\n\u001b[1;32m    519\u001b[0m         session\u001b[39m=\u001b[39;49msession\n\u001b[1;32m    520\u001b[0m     )\n",
      "File \u001b[0;32m/Library/Frameworks/Python.framework/Versions/3.10/lib/python3.10/ssl.py:1070\u001b[0m, in \u001b[0;36mSSLSocket._create\u001b[0;34m(cls, sock, server_side, do_handshake_on_connect, suppress_ragged_eofs, server_hostname, context, session)\u001b[0m\n\u001b[1;32m   1069\u001b[0m             \u001b[39mraise\u001b[39;00m \u001b[39mValueError\u001b[39;00m(\u001b[39m\"\u001b[39m\u001b[39mdo_handshake_on_connect should not be specified for non-blocking sockets\u001b[39m\u001b[39m\"\u001b[39m)\n\u001b[0;32m-> 1070\u001b[0m         \u001b[39mself\u001b[39;49m\u001b[39m.\u001b[39;49mdo_handshake()\n\u001b[1;32m   1071\u001b[0m \u001b[39mexcept\u001b[39;00m (\u001b[39mOSError\u001b[39;00m, \u001b[39mValueError\u001b[39;00m):\n",
      "File \u001b[0;32m/Library/Frameworks/Python.framework/Versions/3.10/lib/python3.10/ssl.py:1341\u001b[0m, in \u001b[0;36mSSLSocket.do_handshake\u001b[0;34m(self, block)\u001b[0m\n\u001b[1;32m   1340\u001b[0m         \u001b[39mself\u001b[39m\u001b[39m.\u001b[39msettimeout(\u001b[39mNone\u001b[39;00m)\n\u001b[0;32m-> 1341\u001b[0m     \u001b[39mself\u001b[39;49m\u001b[39m.\u001b[39;49m_sslobj\u001b[39m.\u001b[39;49mdo_handshake()\n\u001b[1;32m   1342\u001b[0m \u001b[39mfinally\u001b[39;00m:\n",
      "\u001b[0;31mSSLCertVerificationError\u001b[0m: [SSL: CERTIFICATE_VERIFY_FAILED] certificate verify failed: unable to get local issuer certificate (_ssl.c:997)",
      "\nDuring handling of the above exception, another exception occurred:\n",
      "\u001b[0;31mURLError\u001b[0m                                  Traceback (most recent call last)",
      "Cell \u001b[0;32mIn [5], line 4\u001b[0m\n\u001b[1;32m      1\u001b[0m \u001b[39m#importation de la base de données et la nommer \"transactions\"\u001b[39;00m\n\u001b[1;32m      2\u001b[0m \u001b[39m#url='C:\\\\Users\\\\herve\\\\Projet_Datascientest\\\\fraud.csv'\u001b[39;00m\n\u001b[1;32m      3\u001b[0m \u001b[39m#transactions = pd.read_csv(url, sep = ',')\u001b[39;00m\n\u001b[0;32m----> 4\u001b[0m transactions \u001b[39m=\u001b[39m pd\u001b[39m.\u001b[39;49mread_csv(\u001b[39m\"\u001b[39;49m\u001b[39mhttps://assets-datascientest.s3-eu-west-1.amazonaws.com/de/total/fraud.csv\u001b[39;49m\u001b[39m\"\u001b[39;49m)\n\u001b[1;32m      5\u001b[0m transactions\u001b[39m.\u001b[39mhead()\n",
      "File \u001b[0;32m/Library/Frameworks/Python.framework/Versions/3.10/lib/python3.10/site-packages/pandas/util/_decorators.py:211\u001b[0m, in \u001b[0;36mdeprecate_kwarg.<locals>._deprecate_kwarg.<locals>.wrapper\u001b[0;34m(*args, **kwargs)\u001b[0m\n\u001b[1;32m    209\u001b[0m     \u001b[39melse\u001b[39;00m:\n\u001b[1;32m    210\u001b[0m         kwargs[new_arg_name] \u001b[39m=\u001b[39m new_arg_value\n\u001b[0;32m--> 211\u001b[0m \u001b[39mreturn\u001b[39;00m func(\u001b[39m*\u001b[39;49margs, \u001b[39m*\u001b[39;49m\u001b[39m*\u001b[39;49mkwargs)\n",
      "File \u001b[0;32m/Library/Frameworks/Python.framework/Versions/3.10/lib/python3.10/site-packages/pandas/util/_decorators.py:317\u001b[0m, in \u001b[0;36mdeprecate_nonkeyword_arguments.<locals>.decorate.<locals>.wrapper\u001b[0;34m(*args, **kwargs)\u001b[0m\n\u001b[1;32m    311\u001b[0m \u001b[39mif\u001b[39;00m \u001b[39mlen\u001b[39m(args) \u001b[39m>\u001b[39m num_allow_args:\n\u001b[1;32m    312\u001b[0m     warnings\u001b[39m.\u001b[39mwarn(\n\u001b[1;32m    313\u001b[0m         msg\u001b[39m.\u001b[39mformat(arguments\u001b[39m=\u001b[39marguments),\n\u001b[1;32m    314\u001b[0m         \u001b[39mFutureWarning\u001b[39;00m,\n\u001b[1;32m    315\u001b[0m         stacklevel\u001b[39m=\u001b[39mfind_stack_level(inspect\u001b[39m.\u001b[39mcurrentframe()),\n\u001b[1;32m    316\u001b[0m     )\n\u001b[0;32m--> 317\u001b[0m \u001b[39mreturn\u001b[39;00m func(\u001b[39m*\u001b[39;49margs, \u001b[39m*\u001b[39;49m\u001b[39m*\u001b[39;49mkwargs)\n",
      "File \u001b[0;32m/Library/Frameworks/Python.framework/Versions/3.10/lib/python3.10/site-packages/pandas/io/parsers/readers.py:950\u001b[0m, in \u001b[0;36mread_csv\u001b[0;34m(filepath_or_buffer, sep, delimiter, header, names, index_col, usecols, squeeze, prefix, mangle_dupe_cols, dtype, engine, converters, true_values, false_values, skipinitialspace, skiprows, skipfooter, nrows, na_values, keep_default_na, na_filter, verbose, skip_blank_lines, parse_dates, infer_datetime_format, keep_date_col, date_parser, dayfirst, cache_dates, iterator, chunksize, compression, thousands, decimal, lineterminator, quotechar, quoting, doublequote, escapechar, comment, encoding, encoding_errors, dialect, error_bad_lines, warn_bad_lines, on_bad_lines, delim_whitespace, low_memory, memory_map, float_precision, storage_options)\u001b[0m\n\u001b[1;32m    935\u001b[0m kwds_defaults \u001b[39m=\u001b[39m _refine_defaults_read(\n\u001b[1;32m    936\u001b[0m     dialect,\n\u001b[1;32m    937\u001b[0m     delimiter,\n\u001b[0;32m   (...)\u001b[0m\n\u001b[1;32m    946\u001b[0m     defaults\u001b[39m=\u001b[39m{\u001b[39m\"\u001b[39m\u001b[39mdelimiter\u001b[39m\u001b[39m\"\u001b[39m: \u001b[39m\"\u001b[39m\u001b[39m,\u001b[39m\u001b[39m\"\u001b[39m},\n\u001b[1;32m    947\u001b[0m )\n\u001b[1;32m    948\u001b[0m kwds\u001b[39m.\u001b[39mupdate(kwds_defaults)\n\u001b[0;32m--> 950\u001b[0m \u001b[39mreturn\u001b[39;00m _read(filepath_or_buffer, kwds)\n",
      "File \u001b[0;32m/Library/Frameworks/Python.framework/Versions/3.10/lib/python3.10/site-packages/pandas/io/parsers/readers.py:605\u001b[0m, in \u001b[0;36m_read\u001b[0;34m(filepath_or_buffer, kwds)\u001b[0m\n\u001b[1;32m    602\u001b[0m _validate_names(kwds\u001b[39m.\u001b[39mget(\u001b[39m\"\u001b[39m\u001b[39mnames\u001b[39m\u001b[39m\"\u001b[39m, \u001b[39mNone\u001b[39;00m))\n\u001b[1;32m    604\u001b[0m \u001b[39m# Create the parser.\u001b[39;00m\n\u001b[0;32m--> 605\u001b[0m parser \u001b[39m=\u001b[39m TextFileReader(filepath_or_buffer, \u001b[39m*\u001b[39;49m\u001b[39m*\u001b[39;49mkwds)\n\u001b[1;32m    607\u001b[0m \u001b[39mif\u001b[39;00m chunksize \u001b[39mor\u001b[39;00m iterator:\n\u001b[1;32m    608\u001b[0m     \u001b[39mreturn\u001b[39;00m parser\n",
      "File \u001b[0;32m/Library/Frameworks/Python.framework/Versions/3.10/lib/python3.10/site-packages/pandas/io/parsers/readers.py:1442\u001b[0m, in \u001b[0;36mTextFileReader.__init__\u001b[0;34m(self, f, engine, **kwds)\u001b[0m\n\u001b[1;32m   1439\u001b[0m     \u001b[39mself\u001b[39m\u001b[39m.\u001b[39moptions[\u001b[39m\"\u001b[39m\u001b[39mhas_index_names\u001b[39m\u001b[39m\"\u001b[39m] \u001b[39m=\u001b[39m kwds[\u001b[39m\"\u001b[39m\u001b[39mhas_index_names\u001b[39m\u001b[39m\"\u001b[39m]\n\u001b[1;32m   1441\u001b[0m \u001b[39mself\u001b[39m\u001b[39m.\u001b[39mhandles: IOHandles \u001b[39m|\u001b[39m \u001b[39mNone\u001b[39;00m \u001b[39m=\u001b[39m \u001b[39mNone\u001b[39;00m\n\u001b[0;32m-> 1442\u001b[0m \u001b[39mself\u001b[39m\u001b[39m.\u001b[39m_engine \u001b[39m=\u001b[39m \u001b[39mself\u001b[39;49m\u001b[39m.\u001b[39;49m_make_engine(f, \u001b[39mself\u001b[39;49m\u001b[39m.\u001b[39;49mengine)\n",
      "File \u001b[0;32m/Library/Frameworks/Python.framework/Versions/3.10/lib/python3.10/site-packages/pandas/io/parsers/readers.py:1729\u001b[0m, in \u001b[0;36mTextFileReader._make_engine\u001b[0;34m(self, f, engine)\u001b[0m\n\u001b[1;32m   1727\u001b[0m     is_text \u001b[39m=\u001b[39m \u001b[39mFalse\u001b[39;00m\n\u001b[1;32m   1728\u001b[0m     mode \u001b[39m=\u001b[39m \u001b[39m\"\u001b[39m\u001b[39mrb\u001b[39m\u001b[39m\"\u001b[39m\n\u001b[0;32m-> 1729\u001b[0m \u001b[39mself\u001b[39m\u001b[39m.\u001b[39mhandles \u001b[39m=\u001b[39m get_handle(\n\u001b[1;32m   1730\u001b[0m     f,\n\u001b[1;32m   1731\u001b[0m     mode,\n\u001b[1;32m   1732\u001b[0m     encoding\u001b[39m=\u001b[39;49m\u001b[39mself\u001b[39;49m\u001b[39m.\u001b[39;49moptions\u001b[39m.\u001b[39;49mget(\u001b[39m\"\u001b[39;49m\u001b[39mencoding\u001b[39;49m\u001b[39m\"\u001b[39;49m, \u001b[39mNone\u001b[39;49;00m),\n\u001b[1;32m   1733\u001b[0m     compression\u001b[39m=\u001b[39;49m\u001b[39mself\u001b[39;49m\u001b[39m.\u001b[39;49moptions\u001b[39m.\u001b[39;49mget(\u001b[39m\"\u001b[39;49m\u001b[39mcompression\u001b[39;49m\u001b[39m\"\u001b[39;49m, \u001b[39mNone\u001b[39;49;00m),\n\u001b[1;32m   1734\u001b[0m     memory_map\u001b[39m=\u001b[39;49m\u001b[39mself\u001b[39;49m\u001b[39m.\u001b[39;49moptions\u001b[39m.\u001b[39;49mget(\u001b[39m\"\u001b[39;49m\u001b[39mmemory_map\u001b[39;49m\u001b[39m\"\u001b[39;49m, \u001b[39mFalse\u001b[39;49;00m),\n\u001b[1;32m   1735\u001b[0m     is_text\u001b[39m=\u001b[39;49mis_text,\n\u001b[1;32m   1736\u001b[0m     errors\u001b[39m=\u001b[39;49m\u001b[39mself\u001b[39;49m\u001b[39m.\u001b[39;49moptions\u001b[39m.\u001b[39;49mget(\u001b[39m\"\u001b[39;49m\u001b[39mencoding_errors\u001b[39;49m\u001b[39m\"\u001b[39;49m, \u001b[39m\"\u001b[39;49m\u001b[39mstrict\u001b[39;49m\u001b[39m\"\u001b[39;49m),\n\u001b[1;32m   1737\u001b[0m     storage_options\u001b[39m=\u001b[39;49m\u001b[39mself\u001b[39;49m\u001b[39m.\u001b[39;49moptions\u001b[39m.\u001b[39;49mget(\u001b[39m\"\u001b[39;49m\u001b[39mstorage_options\u001b[39;49m\u001b[39m\"\u001b[39;49m, \u001b[39mNone\u001b[39;49;00m),\n\u001b[1;32m   1738\u001b[0m )\n\u001b[1;32m   1739\u001b[0m \u001b[39massert\u001b[39;00m \u001b[39mself\u001b[39m\u001b[39m.\u001b[39mhandles \u001b[39mis\u001b[39;00m \u001b[39mnot\u001b[39;00m \u001b[39mNone\u001b[39;00m\n\u001b[1;32m   1740\u001b[0m f \u001b[39m=\u001b[39m \u001b[39mself\u001b[39m\u001b[39m.\u001b[39mhandles\u001b[39m.\u001b[39mhandle\n",
      "File \u001b[0;32m/Library/Frameworks/Python.framework/Versions/3.10/lib/python3.10/site-packages/pandas/io/common.py:714\u001b[0m, in \u001b[0;36mget_handle\u001b[0;34m(path_or_buf, mode, encoding, compression, memory_map, is_text, errors, storage_options)\u001b[0m\n\u001b[1;32m    711\u001b[0m     codecs\u001b[39m.\u001b[39mlookup_error(errors)\n\u001b[1;32m    713\u001b[0m \u001b[39m# open URLs\u001b[39;00m\n\u001b[0;32m--> 714\u001b[0m ioargs \u001b[39m=\u001b[39m _get_filepath_or_buffer(\n\u001b[1;32m    715\u001b[0m     path_or_buf,\n\u001b[1;32m    716\u001b[0m     encoding\u001b[39m=\u001b[39;49mencoding,\n\u001b[1;32m    717\u001b[0m     compression\u001b[39m=\u001b[39;49mcompression,\n\u001b[1;32m    718\u001b[0m     mode\u001b[39m=\u001b[39;49mmode,\n\u001b[1;32m    719\u001b[0m     storage_options\u001b[39m=\u001b[39;49mstorage_options,\n\u001b[1;32m    720\u001b[0m )\n\u001b[1;32m    722\u001b[0m handle \u001b[39m=\u001b[39m ioargs\u001b[39m.\u001b[39mfilepath_or_buffer\n\u001b[1;32m    723\u001b[0m handles: \u001b[39mlist\u001b[39m[BaseBuffer]\n",
      "File \u001b[0;32m/Library/Frameworks/Python.framework/Versions/3.10/lib/python3.10/site-packages/pandas/io/common.py:364\u001b[0m, in \u001b[0;36m_get_filepath_or_buffer\u001b[0;34m(filepath_or_buffer, encoding, compression, mode, storage_options)\u001b[0m\n\u001b[1;32m    362\u001b[0m \u001b[39m# assuming storage_options is to be interpreted as headers\u001b[39;00m\n\u001b[1;32m    363\u001b[0m req_info \u001b[39m=\u001b[39m urllib\u001b[39m.\u001b[39mrequest\u001b[39m.\u001b[39mRequest(filepath_or_buffer, headers\u001b[39m=\u001b[39mstorage_options)\n\u001b[0;32m--> 364\u001b[0m \u001b[39mwith\u001b[39;00m urlopen(req_info) \u001b[39mas\u001b[39;00m req:\n\u001b[1;32m    365\u001b[0m     content_encoding \u001b[39m=\u001b[39m req\u001b[39m.\u001b[39mheaders\u001b[39m.\u001b[39mget(\u001b[39m\"\u001b[39m\u001b[39mContent-Encoding\u001b[39m\u001b[39m\"\u001b[39m, \u001b[39mNone\u001b[39;00m)\n\u001b[1;32m    366\u001b[0m     \u001b[39mif\u001b[39;00m content_encoding \u001b[39m==\u001b[39m \u001b[39m\"\u001b[39m\u001b[39mgzip\u001b[39m\u001b[39m\"\u001b[39m:\n\u001b[1;32m    367\u001b[0m         \u001b[39m# Override compression based on Content-Encoding header\u001b[39;00m\n",
      "File \u001b[0;32m/Library/Frameworks/Python.framework/Versions/3.10/lib/python3.10/site-packages/pandas/io/common.py:266\u001b[0m, in \u001b[0;36murlopen\u001b[0;34m(*args, **kwargs)\u001b[0m\n\u001b[1;32m    260\u001b[0m \u001b[39m\"\"\"\u001b[39;00m\n\u001b[1;32m    261\u001b[0m \u001b[39mLazy-import wrapper for stdlib urlopen, as that imports a big chunk of\u001b[39;00m\n\u001b[1;32m    262\u001b[0m \u001b[39mthe stdlib.\u001b[39;00m\n\u001b[1;32m    263\u001b[0m \u001b[39m\"\"\"\u001b[39;00m\n\u001b[1;32m    264\u001b[0m \u001b[39mimport\u001b[39;00m \u001b[39murllib\u001b[39;00m\u001b[39m.\u001b[39;00m\u001b[39mrequest\u001b[39;00m\n\u001b[0;32m--> 266\u001b[0m \u001b[39mreturn\u001b[39;00m urllib\u001b[39m.\u001b[39;49mrequest\u001b[39m.\u001b[39;49murlopen(\u001b[39m*\u001b[39;49margs, \u001b[39m*\u001b[39;49m\u001b[39m*\u001b[39;49mkwargs)\n",
      "File \u001b[0;32m/Library/Frameworks/Python.framework/Versions/3.10/lib/python3.10/urllib/request.py:216\u001b[0m, in \u001b[0;36murlopen\u001b[0;34m(url, data, timeout, cafile, capath, cadefault, context)\u001b[0m\n\u001b[1;32m    214\u001b[0m \u001b[39melse\u001b[39;00m:\n\u001b[1;32m    215\u001b[0m     opener \u001b[39m=\u001b[39m _opener\n\u001b[0;32m--> 216\u001b[0m \u001b[39mreturn\u001b[39;00m opener\u001b[39m.\u001b[39;49mopen(url, data, timeout)\n",
      "File \u001b[0;32m/Library/Frameworks/Python.framework/Versions/3.10/lib/python3.10/urllib/request.py:519\u001b[0m, in \u001b[0;36mOpenerDirector.open\u001b[0;34m(self, fullurl, data, timeout)\u001b[0m\n\u001b[1;32m    516\u001b[0m     req \u001b[39m=\u001b[39m meth(req)\n\u001b[1;32m    518\u001b[0m sys\u001b[39m.\u001b[39maudit(\u001b[39m'\u001b[39m\u001b[39murllib.Request\u001b[39m\u001b[39m'\u001b[39m, req\u001b[39m.\u001b[39mfull_url, req\u001b[39m.\u001b[39mdata, req\u001b[39m.\u001b[39mheaders, req\u001b[39m.\u001b[39mget_method())\n\u001b[0;32m--> 519\u001b[0m response \u001b[39m=\u001b[39m \u001b[39mself\u001b[39;49m\u001b[39m.\u001b[39;49m_open(req, data)\n\u001b[1;32m    521\u001b[0m \u001b[39m# post-process response\u001b[39;00m\n\u001b[1;32m    522\u001b[0m meth_name \u001b[39m=\u001b[39m protocol\u001b[39m+\u001b[39m\u001b[39m\"\u001b[39m\u001b[39m_response\u001b[39m\u001b[39m\"\u001b[39m\n",
      "File \u001b[0;32m/Library/Frameworks/Python.framework/Versions/3.10/lib/python3.10/urllib/request.py:536\u001b[0m, in \u001b[0;36mOpenerDirector._open\u001b[0;34m(self, req, data)\u001b[0m\n\u001b[1;32m    533\u001b[0m     \u001b[39mreturn\u001b[39;00m result\n\u001b[1;32m    535\u001b[0m protocol \u001b[39m=\u001b[39m req\u001b[39m.\u001b[39mtype\n\u001b[0;32m--> 536\u001b[0m result \u001b[39m=\u001b[39m \u001b[39mself\u001b[39;49m\u001b[39m.\u001b[39;49m_call_chain(\u001b[39mself\u001b[39;49m\u001b[39m.\u001b[39;49mhandle_open, protocol, protocol \u001b[39m+\u001b[39;49m\n\u001b[1;32m    537\u001b[0m                           \u001b[39m'\u001b[39;49m\u001b[39m_open\u001b[39;49m\u001b[39m'\u001b[39;49m, req)\n\u001b[1;32m    538\u001b[0m \u001b[39mif\u001b[39;00m result:\n\u001b[1;32m    539\u001b[0m     \u001b[39mreturn\u001b[39;00m result\n",
      "File \u001b[0;32m/Library/Frameworks/Python.framework/Versions/3.10/lib/python3.10/urllib/request.py:496\u001b[0m, in \u001b[0;36mOpenerDirector._call_chain\u001b[0;34m(self, chain, kind, meth_name, *args)\u001b[0m\n\u001b[1;32m    494\u001b[0m \u001b[39mfor\u001b[39;00m handler \u001b[39min\u001b[39;00m handlers:\n\u001b[1;32m    495\u001b[0m     func \u001b[39m=\u001b[39m \u001b[39mgetattr\u001b[39m(handler, meth_name)\n\u001b[0;32m--> 496\u001b[0m     result \u001b[39m=\u001b[39m func(\u001b[39m*\u001b[39;49margs)\n\u001b[1;32m    497\u001b[0m     \u001b[39mif\u001b[39;00m result \u001b[39mis\u001b[39;00m \u001b[39mnot\u001b[39;00m \u001b[39mNone\u001b[39;00m:\n\u001b[1;32m    498\u001b[0m         \u001b[39mreturn\u001b[39;00m result\n",
      "File \u001b[0;32m/Library/Frameworks/Python.framework/Versions/3.10/lib/python3.10/urllib/request.py:1391\u001b[0m, in \u001b[0;36mHTTPSHandler.https_open\u001b[0;34m(self, req)\u001b[0m\n\u001b[1;32m   1390\u001b[0m \u001b[39mdef\u001b[39;00m \u001b[39mhttps_open\u001b[39m(\u001b[39mself\u001b[39m, req):\n\u001b[0;32m-> 1391\u001b[0m     \u001b[39mreturn\u001b[39;00m \u001b[39mself\u001b[39;49m\u001b[39m.\u001b[39;49mdo_open(http\u001b[39m.\u001b[39;49mclient\u001b[39m.\u001b[39;49mHTTPSConnection, req,\n\u001b[1;32m   1392\u001b[0m         context\u001b[39m=\u001b[39;49m\u001b[39mself\u001b[39;49m\u001b[39m.\u001b[39;49m_context, check_hostname\u001b[39m=\u001b[39;49m\u001b[39mself\u001b[39;49m\u001b[39m.\u001b[39;49m_check_hostname)\n",
      "File \u001b[0;32m/Library/Frameworks/Python.framework/Versions/3.10/lib/python3.10/urllib/request.py:1351\u001b[0m, in \u001b[0;36mAbstractHTTPHandler.do_open\u001b[0;34m(self, http_class, req, **http_conn_args)\u001b[0m\n\u001b[1;32m   1348\u001b[0m         h\u001b[39m.\u001b[39mrequest(req\u001b[39m.\u001b[39mget_method(), req\u001b[39m.\u001b[39mselector, req\u001b[39m.\u001b[39mdata, headers,\n\u001b[1;32m   1349\u001b[0m                   encode_chunked\u001b[39m=\u001b[39mreq\u001b[39m.\u001b[39mhas_header(\u001b[39m'\u001b[39m\u001b[39mTransfer-encoding\u001b[39m\u001b[39m'\u001b[39m))\n\u001b[1;32m   1350\u001b[0m     \u001b[39mexcept\u001b[39;00m \u001b[39mOSError\u001b[39;00m \u001b[39mas\u001b[39;00m err: \u001b[39m# timeout error\u001b[39;00m\n\u001b[0;32m-> 1351\u001b[0m         \u001b[39mraise\u001b[39;00m URLError(err)\n\u001b[1;32m   1352\u001b[0m     r \u001b[39m=\u001b[39m h\u001b[39m.\u001b[39mgetresponse()\n\u001b[1;32m   1353\u001b[0m \u001b[39mexcept\u001b[39;00m:\n",
      "\u001b[0;31mURLError\u001b[0m: <urlopen error [SSL: CERTIFICATE_VERIFY_FAILED] certificate verify failed: unable to get local issuer certificate (_ssl.c:997)>"
     ]
    }
   ],
   "source": [
    "#importation de la base de données et la nommer \"transactions\"\n",
    "#url='C:\\\\Users\\\\herve\\\\Projet_Datascientest\\\\fraud.csv'\n",
    "#transactions = pd.read_csv(url, sep = ',')\n",
    "transactions = pd.read_csv(\"https://assets-datascientest.s3-eu-west-1.amazonaws.com/de/total/fraud.csv\")\n",
    "transactions.head()"
   ]
  },
  {
   "cell_type": "code",
   "execution_count": 6,
   "id": "66eea975",
   "metadata": {},
   "outputs": [
    {
     "ename": "ModuleNotFoundError",
     "evalue": "No module named 'category_encoders'",
     "output_type": "error",
     "traceback": [
      "\u001b[0;31m---------------------------------------------------------------------------\u001b[0m",
      "\u001b[0;31mModuleNotFoundError\u001b[0m                       Traceback (most recent call last)",
      "Cell \u001b[0;32mIn [6], line 2\u001b[0m\n\u001b[1;32m      1\u001b[0m \u001b[39m# importing the libraries\u001b[39;00m\n\u001b[0;32m----> 2\u001b[0m \u001b[39mimport\u001b[39;00m \u001b[39mcategory_encoders\u001b[39;00m \u001b[39mas\u001b[39;00m \u001b[39mcat_encoder\u001b[39;00m\n\u001b[1;32m      3\u001b[0m \u001b[39mfrom\u001b[39;00m \u001b[39msklearn\u001b[39;00m\u001b[39m.\u001b[39;00m\u001b[39mpreprocessing\u001b[39;00m \u001b[39mimport\u001b[39;00m LabelBinarizer\n\u001b[1;32m      4\u001b[0m \u001b[39mimport\u001b[39;00m \u001b[39mpandas\u001b[39;00m \u001b[39mas\u001b[39;00m \u001b[39mpd\u001b[39;00m\n",
      "\u001b[0;31mModuleNotFoundError\u001b[0m: No module named 'category_encoders'"
     ]
    }
   ],
   "source": [
    "# importing the libraries\n",
    "import category_encoders as cat_encoder\n",
    "from sklearn.preprocessing import LabelBinarizer\n",
    "import pandas as pd\n",
    "  \n",
    "# création d'une copie du DataFrame original\n",
    "transactions1 = transactions.copy()\n",
    "\n",
    "# creating an object BinaryEncoder\n",
    "# this code calls all columns\n",
    "# we can specify specific columns as well\n",
    "encoder = cat_encoder.BinaryEncoder(cols = \"sex\")\n",
    "  \n",
    "# fitting the columns to a data frame\n",
    "df_category_encoder = encoder.fit_transform( transactions1 )\n",
    "  \n",
    "display(df_category_encoder)"
   ]
  },
  {
   "cell_type": "markdown",
   "id": "9a171bba",
   "metadata": {},
   "source": [
    "# Etape 2: SPlit de la base de données entre Feature et Target"
   ]
  },
  {
   "cell_type": "code",
   "execution_count": 7,
   "id": "0a01df6b",
   "metadata": {},
   "outputs": [
    {
     "ename": "NameError",
     "evalue": "name 'transactions' is not defined",
     "output_type": "error",
     "traceback": [
      "\u001b[0;31m---------------------------------------------------------------------------\u001b[0m",
      "\u001b[0;31mNameError\u001b[0m                                 Traceback (most recent call last)",
      "Cell \u001b[0;32mIn [7], line 2\u001b[0m\n\u001b[1;32m      1\u001b[0m \u001b[39m#Séparation du jeu de données en un dataframe X pour les variables explicatives et en un vecteur y pour la variable expliquée\u001b[39;00m\n\u001b[0;32m----> 2\u001b[0m X \u001b[39m=\u001b[39m transactions\u001b[39m.\u001b[39mdrop([\u001b[39m'\u001b[39m\u001b[39mis_fraud\u001b[39m\u001b[39m'\u001b[39m], axis\u001b[39m=\u001b[39m\u001b[39m1\u001b[39m)\n\u001b[1;32m      3\u001b[0m y \u001b[39m=\u001b[39m transactions\u001b[39m.\u001b[39mis_fraud\n",
      "\u001b[0;31mNameError\u001b[0m: name 'transactions' is not defined"
     ]
    }
   ],
   "source": [
    "#Séparation du jeu de données en un dataframe X pour les variables explicatives et en un vecteur y pour la variable expliquée\n",
    "X = transactions.drop(['is_fraud'], axis=1)\n",
    "y = transactions.is_fraud\n"
   ]
  },
  {
   "cell_type": "markdown",
   "id": "177f8875",
   "metadata": {},
   "source": [
    "## Etape 3: Audit Exploratoire et Preprocessing"
   ]
  },
  {
   "cell_type": "code",
   "execution_count": 8,
   "id": "102f297b",
   "metadata": {},
   "outputs": [
    {
     "ename": "NameError",
     "evalue": "name 'transactions' is not defined",
     "output_type": "error",
     "traceback": [
      "\u001b[0;31m---------------------------------------------------------------------------\u001b[0m",
      "\u001b[0;31mNameError\u001b[0m                                 Traceback (most recent call last)",
      "Cell \u001b[0;32mIn [8], line 3\u001b[0m\n\u001b[1;32m      1\u001b[0m \u001b[39m#Séparation entre les variables catégorielles (discrètes) et les valeurs (continues) en excluant is_fraud\u001b[39;00m\n\u001b[1;32m      2\u001b[0m discr_feat \u001b[39m=\u001b[39m []\n\u001b[0;32m----> 3\u001b[0m cont_feat \u001b[39m=\u001b[39m \u001b[39mlist\u001b[39m(\u001b[39mset\u001b[39m(transactions\u001b[39m.\u001b[39mcolumns) \u001b[39m-\u001b[39m \u001b[39mset\u001b[39m(discr_feat)\u001b[39m-\u001b[39m{\u001b[39m'\u001b[39m\u001b[39mis_fraud\u001b[39m\u001b[39m'\u001b[39m})\n\u001b[1;32m      4\u001b[0m \u001b[39mdef\u001b[39;00m \u001b[39mscale_feat\u001b[39m(df,cont_feat) :\n\u001b[1;32m      5\u001b[0m     transactions1\u001b[39m=\u001b[39mtransactions\n",
      "\u001b[0;31mNameError\u001b[0m: name 'transactions' is not defined"
     ]
    }
   ],
   "source": [
    "#Séparation entre les variables catégorielles (discrètes) et les valeurs (continues) en excluant is_fraud\n",
    "discr_feat = []\n",
    "cont_feat = list(set(transactions.columns) - set(discr_feat)-{'is_fraud'})\n",
    "def scale_feat(df,cont_feat) :\n",
    "    transactions1=transactions\n",
    "    scaler = preprocessing.RobustScaler()\n",
    "    transactions1[cont_feat] = scaler.fit_transform(transactions1[cont_feat])\n",
    "    scaler = preprocessing.StandardScaler()\n",
    "    transactions1[cont_feat] = scaler.fit_transform(transactions1[cont_feat])\n",
    "    return transactions1"
   ]
  },
  {
   "cell_type": "code",
   "execution_count": 9,
   "id": "0cedb083",
   "metadata": {},
   "outputs": [
    {
     "ename": "NameError",
     "evalue": "name 'transactions' is not defined",
     "output_type": "error",
     "traceback": [
      "\u001b[0;31m---------------------------------------------------------------------------\u001b[0m",
      "\u001b[0;31mNameError\u001b[0m                                 Traceback (most recent call last)",
      "Cell \u001b[0;32mIn [9], line 3\u001b[0m\n\u001b[1;32m      1\u001b[0m \u001b[39m# Recherche de valeurs manquantes\u001b[39;00m\n\u001b[0;32m----> 3\u001b[0m transactions\u001b[39m.\u001b[39misna()\u001b[39m.\u001b[39msum()\n",
      "\u001b[0;31mNameError\u001b[0m: name 'transactions' is not defined"
     ]
    }
   ],
   "source": [
    "# Recherche de valeurs manquantes\n",
    "\n",
    "transactions.isna().sum()"
   ]
  },
  {
   "cell_type": "markdown",
   "id": "1eb7e677",
   "metadata": {},
   "source": [
    "Il n'existe donc pas de données manquantes"
   ]
  },
  {
   "cell_type": "code",
   "execution_count": 9,
   "id": "a24b089a",
   "metadata": {
    "scrolled": true
   },
   "outputs": [
    {
     "name": "stdout",
     "output_type": "stream",
     "text": [
      "valeurs en double (jeu d'entrainement):  0\n"
     ]
    }
   ],
   "source": [
    "# Lignes en double\n",
    "print(\"valeurs en double (jeu d'entrainement): \", X.duplicated().sum())"
   ]
  },
  {
   "cell_type": "markdown",
   "id": "fc6a996d",
   "metadata": {},
   "source": [
    "il n'y a donc pas de doublons dans nos données"
   ]
  },
  {
   "cell_type": "code",
   "execution_count": 10,
   "id": "458a7652",
   "metadata": {},
   "outputs": [
    {
     "ename": "NameError",
     "evalue": "name 'transactions' is not defined",
     "output_type": "error",
     "traceback": [
      "\u001b[0;31m---------------------------------------------------------------------------\u001b[0m",
      "\u001b[0;31mNameError\u001b[0m                                 Traceback (most recent call last)",
      "Cell \u001b[0;32mIn [10], line 2\u001b[0m\n\u001b[1;32m      1\u001b[0m \u001b[39m#Caractéristiques des variables\u001b[39;00m\n\u001b[0;32m----> 2\u001b[0m transactions[cont_feat]\u001b[39m.\u001b[39mdescribe()\n\u001b[1;32m      3\u001b[0m \u001b[39m#Calcul des durées de connexion\u001b[39;00m\n\u001b[1;32m      4\u001b[0m \u001b[39mimport\u001b[39;00m \u001b[39mpandas\u001b[39;00m \u001b[39mas\u001b[39;00m \u001b[39mpd\u001b[39;00m\n",
      "\u001b[0;31mNameError\u001b[0m: name 'transactions' is not defined"
     ]
    }
   ],
   "source": [
    "#Caractéristiques des variables\n",
    "transactions[cont_feat].describe()\n",
    "#Calcul des durées de connexion\n",
    "import pandas as pd\n",
    "import datetime\n",
    "def td(x):\n",
    "    f=\"%Y-%m-%d %H:%M:%S\"\n",
    "    return datetime.datetime.strptime(x['purchase_time'],f)- \\\n",
    "           datetime.datetime.strptime(x['signup_time'],f)\n",
    "transactions[\"connected_time\"] = transactions.apply(td,axis=1)\n",
    "print(transactions)\n"
   ]
  },
  {
   "cell_type": "code",
   "execution_count": 11,
   "id": "a252855d",
   "metadata": {},
   "outputs": [
    {
     "ename": "NameError",
     "evalue": "name 'plt' is not defined",
     "output_type": "error",
     "traceback": [
      "\u001b[0;31m---------------------------------------------------------------------------\u001b[0m",
      "\u001b[0;31mNameError\u001b[0m                                 Traceback (most recent call last)",
      "Cell \u001b[0;32mIn [11], line 2\u001b[0m\n\u001b[1;32m      1\u001b[0m \u001b[39m#plt.bar(range(len(transactions)), transactions.purchase_value);\u001b[39;00m\n\u001b[0;32m----> 2\u001b[0m plt\u001b[39m.\u001b[39mbar(\u001b[39mrange\u001b[39m(\u001b[39mlen\u001b[39m(transactions)), transactions\u001b[39m.\u001b[39mpurchase_value, label \u001b[39m=\u001b[39m \n\u001b[1;32m      3\u001b[0m \u001b[39m\"\u001b[39m\u001b[39mpurchase_value\u001b[39m\u001b[39m\"\u001b[39m);\n\u001b[1;32m      4\u001b[0m plt\u001b[39m.\u001b[39mxlabel(\u001b[39m'\u001b[39m\u001b[39mNombre de transactions\u001b[39m\u001b[39m'\u001b[39m)\n\u001b[1;32m      5\u001b[0m plt\u001b[39m.\u001b[39mylabel(\u001b[39m'\u001b[39m\u001b[39mValeur des transactions\u001b[39m\u001b[39m'\u001b[39m)\n",
      "\u001b[0;31mNameError\u001b[0m: name 'plt' is not defined"
     ]
    }
   ],
   "source": [
    "#plt.bar(range(len(transactions)), transactions.purchase_value);\n",
    "plt.bar(range(len(transactions)), transactions.purchase_value, label = \n",
    "\"purchase_value\");\n",
    "plt.xlabel('Nombre de transactions')\n",
    "plt.ylabel('Valeur des transactions')\n",
    "plt.title(\"Montants des transactions vs Nombre de transactions\")"
   ]
  },
  {
   "cell_type": "code",
   "execution_count": 12,
   "id": "f45ecef9",
   "metadata": {
    "scrolled": true
   },
   "outputs": [
    {
     "ename": "NameError",
     "evalue": "name 'sns' is not defined",
     "output_type": "error",
     "traceback": [
      "\u001b[0;31m---------------------------------------------------------------------------\u001b[0m",
      "\u001b[0;31mNameError\u001b[0m                                 Traceback (most recent call last)",
      "Cell \u001b[0;32mIn [12], line 2\u001b[0m\n\u001b[1;32m      1\u001b[0m \u001b[39m# Age Vs Fraude\u001b[39;00m\n\u001b[0;32m----> 2\u001b[0m sns\u001b[39m.\u001b[39mboxplot(y\u001b[39m=\u001b[39m\u001b[39m\"\u001b[39m\u001b[39mage\u001b[39m\u001b[39m\"\u001b[39m, x\u001b[39m=\u001b[39m\u001b[39m\"\u001b[39m\u001b[39mis_fraud\u001b[39m\u001b[39m\"\u001b[39m, data\u001b[39m=\u001b[39mtransactions);\n",
      "\u001b[0;31mNameError\u001b[0m: name 'sns' is not defined"
     ]
    }
   ],
   "source": [
    "# Age Vs Fraude\n",
    "sns.boxplot(y=\"age\", x=\"is_fraud\", data=transactions);"
   ]
  },
  {
   "cell_type": "markdown",
   "id": "5c124233",
   "metadata": {},
   "source": [
    "on Constate que les personnes au delà de 40 ans ont sûrement moins accès ou se sentement moins à leur aise avec l'outil internet, ce qui expliquerait en outre la faible proportion des fraudes sur cette tranche de la population"
   ]
  },
  {
   "cell_type": "code",
   "execution_count": 13,
   "id": "4efc4dda",
   "metadata": {
    "scrolled": true
   },
   "outputs": [
    {
     "ename": "NameError",
     "evalue": "name 'transactions' is not defined",
     "output_type": "error",
     "traceback": [
      "\u001b[0;31m---------------------------------------------------------------------------\u001b[0m",
      "\u001b[0;31mNameError\u001b[0m                                 Traceback (most recent call last)",
      "Cell \u001b[0;32mIn [13], line 1\u001b[0m\n\u001b[0;32m----> 1\u001b[0m transactions\u001b[39m.\u001b[39mplot\u001b[39m.\u001b[39mscatter(x\u001b[39m=\u001b[39m\u001b[39m'\u001b[39m\u001b[39mconnected_time\u001b[39m\u001b[39m'\u001b[39m, y\u001b[39m=\u001b[39m\u001b[39m'\u001b[39m\u001b[39mpurchase_value\u001b[39m\u001b[39m'\u001b[39m, c \u001b[39m=\u001b[39m transactions\u001b[39m.\u001b[39mis_fraud, s\u001b[39m=\u001b[39m\u001b[39m30\u001b[39m, cmap \u001b[39m=\u001b[39m \u001b[39m'\u001b[39m\u001b[39mbinary\u001b[39m\u001b[39m'\u001b[39m)\n\u001b[1;32m      2\u001b[0m plt\u001b[39m.\u001b[39mxlabel(\u001b[39m\"\u001b[39m\u001b[39mConnected Time\u001b[39m\u001b[39m\"\u001b[39m)\n\u001b[1;32m      3\u001b[0m plt\u001b[39m.\u001b[39mylabel(\u001b[39m\"\u001b[39m\u001b[39mPurchase Value\u001b[39m\u001b[39m\"\u001b[39m)\n",
      "\u001b[0;31mNameError\u001b[0m: name 'transactions' is not defined"
     ]
    }
   ],
   "source": [
    "transactions.plot.scatter(x='connected_time', y='purchase_value', c = transactions.is_fraud, s=30, cmap = 'binary')\n",
    "plt.xlabel(\"Connected Time\")\n",
    "plt.ylabel(\"Purchase Value\")\n",
    "plt.title(\"Temps de connexion vs Valeur d'achat frauduleuse\")\n",
    "plt.show()"
   ]
  },
  {
   "cell_type": "markdown",
   "id": "d015c4ba",
   "metadata": {},
   "source": [
    "Il semblerait que la majorité des fraudes soient réalisées lors de temps \n",
    "très court entre la connexion et l'achat."
   ]
  },
  {
   "cell_type": "code",
   "execution_count": 14,
   "id": "ed536027",
   "metadata": {},
   "outputs": [
    {
     "ename": "NameError",
     "evalue": "name 'transactions' is not defined",
     "output_type": "error",
     "traceback": [
      "\u001b[0;31m---------------------------------------------------------------------------\u001b[0m",
      "\u001b[0;31mNameError\u001b[0m                                 Traceback (most recent call last)",
      "Cell \u001b[0;32mIn [14], line 1\u001b[0m\n\u001b[0;32m----> 1\u001b[0m transactions\u001b[39m.\u001b[39mplot\u001b[39m.\u001b[39mscatter(x\u001b[39m=\u001b[39m\u001b[39m'\u001b[39m\u001b[39msex\u001b[39m\u001b[39m'\u001b[39m, y\u001b[39m=\u001b[39m\u001b[39m'\u001b[39m\u001b[39mage\u001b[39m\u001b[39m'\u001b[39m, c \u001b[39m=\u001b[39m transactions\u001b[39m.\u001b[39mis_fraud, s\u001b[39m=\u001b[39m\u001b[39m20\u001b[39m, \n\u001b[1;32m      2\u001b[0m cmap \u001b[39m=\u001b[39m \u001b[39m'\u001b[39m\u001b[39mviridis\u001b[39m\u001b[39m'\u001b[39m);\n\u001b[1;32m      3\u001b[0m plt\u001b[39m.\u001b[39mxlabel(\u001b[39m\"\u001b[39m\u001b[39mSexe\u001b[39m\u001b[39m\"\u001b[39m)\n\u001b[1;32m      4\u001b[0m plt\u001b[39m.\u001b[39mylabel(\u001b[39m\"\u001b[39m\u001b[39mAge\u001b[39m\u001b[39m\"\u001b[39m)\n",
      "\u001b[0;31mNameError\u001b[0m: name 'transactions' is not defined"
     ]
    }
   ],
   "source": [
    "transactions.plot.scatter(x='sex', y='age', c = transactions.is_fraud, s=20, \n",
    "cmap = 'viridis');\n",
    "plt.xlabel(\"Sexe\")\n",
    "plt.ylabel(\"Age\")\n",
    "plt.title(\"Transaction frauduleuse age vs sexe\");\n",
    "Total_transactions = len(transactions)\n",
    "normal = len(transactions[transactions.is_fraud == 0])\n",
    "frauduleux = len(transactions[transactions.is_fraud == 1])\n",
    "pourcentage_fraude = round(frauduleux/normal*100, 2)\n",
    "print('Le nombre total de transactions est {}'.format(Total_transactions))\n",
    "print('Le nombre de transactions normales est {}'.format(normal))\n",
    "print('Le nombre de transactions frauduleuses est {}'.format(frauduleux))\n",
    "print('Le pourcentage de transactions frauduleuses est {} %'.format(pourcentage_fraude))\n",
    "print(\"le montant minimal des transactions est\", min(transactions.purchase_value),\"euros\",\"et le montant maximal des transactions est\", max(transactions.purchase_value),\"euros\")\n",
    "print(\"la personne la plus jeune a \", min(transactions.age),\"ans\", \"et la personne la plus âgée a\", max(transactions.age), \"ans\")\n"
   ]
  },
  {
   "cell_type": "code",
   "execution_count": 15,
   "id": "fefb6de1",
   "metadata": {},
   "outputs": [
    {
     "ename": "NameError",
     "evalue": "name 'transactions' is not defined",
     "output_type": "error",
     "traceback": [
      "\u001b[0;31m---------------------------------------------------------------------------\u001b[0m",
      "\u001b[0;31mNameError\u001b[0m                                 Traceback (most recent call last)",
      "Cell \u001b[0;32mIn [15], line 1\u001b[0m\n\u001b[0;32m----> 1\u001b[0m transactions\u001b[39m.\u001b[39mplot\u001b[39m.\u001b[39mscatter(x\u001b[39m=\u001b[39m\u001b[39m'\u001b[39m\u001b[39mage\u001b[39m\u001b[39m'\u001b[39m, y\u001b[39m=\u001b[39m\u001b[39m'\u001b[39m\u001b[39mpurchase_value\u001b[39m\u001b[39m'\u001b[39m, c \u001b[39m=\u001b[39m transactions\u001b[39m.\u001b[39mis_fraud, s\u001b[39m=\u001b[39m\u001b[39m20\u001b[39m, cmap \u001b[39m=\u001b[39m \u001b[39m'\u001b[39m\u001b[39mviridis\u001b[39m\u001b[39m'\u001b[39m);\n\u001b[1;32m      2\u001b[0m plt\u001b[39m.\u001b[39mxlabel(\u001b[39m\"\u001b[39m\u001b[39mAge\u001b[39m\u001b[39m\"\u001b[39m)\n\u001b[1;32m      3\u001b[0m plt\u001b[39m.\u001b[39mylabel(\u001b[39m\"\u001b[39m\u001b[39mPurchase Value\u001b[39m\u001b[39m\"\u001b[39m)\n",
      "\u001b[0;31mNameError\u001b[0m: name 'transactions' is not defined"
     ]
    }
   ],
   "source": [
    "transactions.plot.scatter(x='age', y='purchase_value', c = transactions.is_fraud, s=20, cmap = 'viridis');\n",
    "plt.xlabel(\"Age\")\n",
    "plt.ylabel(\"Purchase Value\")\n",
    "plt.title(\"Transaction frauduleuse age vs purchase value\");\n",
    "#Analyse selon le genre de l'acheteur\n",
    "Femmes = len(transactions[transactions.sex == 'F'])\n",
    "print('Le nombre de femmes ayant effectué une transaction est {}'.format(Femmes))\n",
    "Hommes = len(transactions[transactions.sex == 'M'])\n",
    "print(\"Le nombre d'hommes ayant effectué une transaction est {}\".format(Hommes))\n",
    "pourcentage_Hommes = round(Hommes/Total_transactions*100, 2)\n",
    "print(\"La proportion d'hommes ayant réalisée une transaction est {} %\".format(pourcentage_Hommes))\n",
    "pourcentage_Femmes = round(Femmes/Total_transactions*100, 2)\n",
    "print(\"La proportion de femmes ayant réalisée une transaction est {} %\".format(pourcentage_Femmes))\n",
    "#Analyse selon le navigateur de recherche\n",
    "browser_list = transactions['browser'].value_counts()\n",
    "print(browser_list)\n",
    "for_Chrome = len(transactions[transactions.browser == 'Chrome'])\n",
    "print('Le nombre de transaction effectué avec le navigateur Chrome est {}'.format(for_Chrome))\n",
    "for_IE = len(transactions[transactions.browser == 'IE'])\n",
    "print('Le nombre de transaction effectué avec le navigateur IE est {}'.format(for_IE))\n",
    "for_Safari = len(transactions[transactions.browser == 'Safari'])\n",
    "print('Le nombre de transaction effectué avec le navigateur Safari est {}'.format(for_Safari))\n",
    "for_FireFox = len(transactions[transactions.browser == 'FireFox'])\n",
    "print('Le nombre de transaction effectué avec le navigateur FireFox est {}'.format(for_FireFox))\n",
    "for_Opera = len(transactions[transactions.browser == 'Opera'])\n",
    "print('Le nombre de transaction effectué avec le navigateur Opéra est {}'.format(for_Opera))\n",
    "pourcentage_Chrome = round(for_Chrome/Total_transactions*100, 2)\n",
    "print(\"La proportion de transaction réalisé avec le navigateur Chrome est {} %\".format(pourcentage_Chrome))\n",
    "pourcentage_IE = round(for_IE/Total_transactions*100, 2)\n",
    "print(\"La proportion de transaction réalisé avec le navigateur IE est {} %\".format(pourcentage_IE))\n",
    "pourcentage_Safari = round(for_Safari/Total_transactions*100, 2)\n",
    "print(\"La proportion de transaction réalisé avec le navigateur Safari est {} %\".format(pourcentage_Safari))\n",
    "pourcentage_FireFox = round(for_FireFox/Total_transactions*100, 2)\n",
    "print(\"La proportion de transaction réalisé avec le navigateur FireFox est {} %\".format(pourcentage_FireFox))\n",
    "pourcentage_Opera = round(for_Opera/Total_transactions*100, 2)\n",
    "print(\"La proportion de transaction réalisé avec le navigateur Opera est {}%\".format(pourcentage_Opera))"
   ]
  },
  {
   "cell_type": "code",
   "execution_count": 16,
   "id": "afa24df8",
   "metadata": {},
   "outputs": [
    {
     "ename": "NameError",
     "evalue": "name 'transactions' is not defined",
     "output_type": "error",
     "traceback": [
      "\u001b[0;31m---------------------------------------------------------------------------\u001b[0m",
      "\u001b[0;31mNameError\u001b[0m                                 Traceback (most recent call last)",
      "Cell \u001b[0;32mIn [16], line 2\u001b[0m\n\u001b[1;32m      1\u001b[0m \u001b[39m#Analyse des données sur les transactions frauduleuses\u001b[39;00m\n\u001b[0;32m----> 2\u001b[0m filtered_transactions \u001b[39m=\u001b[39m transactions[transactions[\u001b[39m'\u001b[39m\u001b[39mis_fraud\u001b[39m\u001b[39m'\u001b[39m]\u001b[39m==\u001b[39m\u001b[39m1\u001b[39m]\n\u001b[1;32m      3\u001b[0m filtered_transactions\n\u001b[1;32m      4\u001b[0m \u001b[39mprint\u001b[39m(\u001b[39m\"\u001b[39m\u001b[39mle montant minimal des transactions frauduleuses est\u001b[39m\u001b[39m\"\u001b[39m, \u001b[39mmin\u001b[39m(filtered_transactions\u001b[39m.\u001b[39mpurchase_value),\u001b[39m\"\u001b[39m\u001b[39meuros\u001b[39m\u001b[39m\"\u001b[39m,\u001b[39m\"\u001b[39m\u001b[39met le montant maximal des transactions frauduleuses est\u001b[39m\u001b[39m\"\u001b[39m, \u001b[39mmax\u001b[39m(filtered_transactions\u001b[39m.\u001b[39mpurchase_value),\u001b[39m\"\u001b[39m\u001b[39meuros\u001b[39m\u001b[39m\"\u001b[39m)\n",
      "\u001b[0;31mNameError\u001b[0m: name 'transactions' is not defined"
     ]
    }
   ],
   "source": [
    "#Analyse des données sur les transactions frauduleuses\n",
    "filtered_transactions = transactions[transactions['is_fraud']==1]\n",
    "filtered_transactions\n",
    "print(\"le montant minimal des transactions frauduleuses est\", min(filtered_transactions.purchase_value),\"euros\",\"et le montant maximal des transactions frauduleuses est\", max(filtered_transactions.purchase_value),\"euros\")\n",
    "print(\"la personne la plus jeune des transactions frauduleuses a \", min(filtered_transactions.age),\"ans\", \"et la personne la plus âgée des transactions frauduleuses a\", max(filtered_transactions.age), \"ans\")\n",
    "Total_transactions_fraud = len(filtered_transactions)\n",
    "Femmes_fraud = len(filtered_transactions[filtered_transactions.sex == 'F'])\n",
    "print('Le nombre de femmes ayant effectué une transaction repérée comme frauduleuse est {}'.format(Femmes_fraud))\n",
    "Hommes_fraud = len(filtered_transactions[filtered_transactions.sex == 'M'])\n",
    "print(\"Le nombre d'hommes ayant effectué une transaction repérée comme frauduleuse est {}\".format(Hommes_fraud))\n",
    "pourcentage_Hommes_f = round(Hommes_fraud/Total_transactions_fraud*100, 2)\n",
    "print(\"La proportion d'hommes victimes d'une fraude est {} %\".format(pourcentage_Hommes_f))\n",
    "pourcentage_Femmes = round(Femmes_fraud/Total_transactions_fraud*100, 2)\n",
    "print(\"La proportion de femmes victimes d'une fraude est {} %\".format(pourcentage_Femmes))\n"
   ]
  },
  {
   "cell_type": "code",
   "execution_count": 17,
   "id": "d20b2d04",
   "metadata": {},
   "outputs": [
    {
     "ename": "NameError",
     "evalue": "name 'transactions' is not defined",
     "output_type": "error",
     "traceback": [
      "\u001b[0;31m---------------------------------------------------------------------------\u001b[0m",
      "\u001b[0;31mNameError\u001b[0m                                 Traceback (most recent call last)",
      "Cell \u001b[0;32mIn [17], line 2\u001b[0m\n\u001b[1;32m      1\u001b[0m \u001b[39m#Analyse selon le navigateur de recherche\u001b[39;00m\n\u001b[0;32m----> 2\u001b[0m browser_list \u001b[39m=\u001b[39m transactions[\u001b[39m'\u001b[39m\u001b[39mbrowser\u001b[39m\u001b[39m'\u001b[39m]\u001b[39m.\u001b[39mvalue_counts()\n\u001b[1;32m      3\u001b[0m \u001b[39mprint\u001b[39m(browser_list)\n\u001b[1;32m      4\u001b[0m for_Chrome_f \u001b[39m=\u001b[39m \u001b[39mlen\u001b[39m(filtered_transactions[filtered_transactions\u001b[39m.\u001b[39mbrowser \u001b[39m==\u001b[39m \u001b[39m'\u001b[39m\u001b[39mChrome\u001b[39m\u001b[39m'\u001b[39m])\n",
      "\u001b[0;31mNameError\u001b[0m: name 'transactions' is not defined"
     ]
    }
   ],
   "source": [
    "#Analyse selon le navigateur de recherche\n",
    "browser_list = transactions['browser'].value_counts()\n",
    "print(browser_list)\n",
    "for_Chrome_f = len(filtered_transactions[filtered_transactions.browser == 'Chrome'])\n",
    "print('Le nombre de transaction frauduleuse effectué avec le navigateur Chrome est {}'.format(for_Chrome_f))\n",
    "for_IE_f = len(filtered_transactions[filtered_transactions.browser == 'IE'])\n",
    "print('Le nombre de transaction frauduleuse effectué avec le navigateur IEest {}'.format(for_IE_f))\n",
    "for_Safari_f = len(filtered_transactions[filtered_transactions.browser == 'Safari'])\n",
    "print('Le nombre de transaction frauduleuse effectué avec le navigateur Safari est {}'.format(for_Safari_f))\n",
    "for_FireFox_f = len(filtered_transactions[filtered_transactions.browser == 'FireFox'])\n",
    "print('Le nombre de transaction frauduleuse effectué avec le navigateur FireFox est {}'.format(for_FireFox_f))\n",
    "for_Opera_f = len(filtered_transactions[filtered_transactions.browser == 'Opera'])\n",
    "print('Le nombre de transaction effectué avec le navigateur Opéra est {}'.format(for_Opera_f))\n",
    "pourcentage_Chrome_f = round(for_Chrome_f/Total_transactions*100, 2)\n",
    "print(\"La proportion de transaction frauduleuse réalisée avec le navigateurChrome est {} %\".format(pourcentage_Chrome_f))\n",
    "pourcentage_IE_f = round(for_IE_f/Total_transactions*100, 2)\n",
    "print(\"La proportion de transaction frauduleuse réalisée avec le navigateurIE est {} %\".format(pourcentage_IE_f))\n",
    "pourcentage_Safari_f = round(for_Safari_f/Total_transactions*100, 2)\n",
    "print(\"La proportion de transaction frauduleuse réalisée avec le navigateurSafari est {} %\".format(pourcentage_Safari_f))\n",
    "pourcentage_FireFox_f = round(for_FireFox_f/Total_transactions*100, 2)\n",
    "print(\"La proportion de transaction frauduleuse réalisé avec le navigateur FireFox est {} %\".format(pourcentage_FireFox_f))\n",
    "pourcentage_Opera_f = round(for_Opera_f/Total_transactions*100, 2)\n",
    "print(\"La proportion de transaction frauduleuse réalisé avec le navigateur Opera est {} %\".format(pourcentage_Opera_f))\n",
    "filtered_transactions.plot.scatter(x='age', y='purchase_value', c = \n",
    "filtered_transactions.purchase_value, s=20, cmap = 'viridis');\n",
    "filtered_transactions.boxplot(column= 'purchase_value', by='age', figsize=(12,12));\n",
    "plt.title(\"Boxplots des valeurs de transactions en fonction de l'age\");"
   ]
  },
  {
   "cell_type": "code",
   "execution_count": 18,
   "id": "4228a965",
   "metadata": {},
   "outputs": [
    {
     "ename": "NameError",
     "evalue": "name 'plt' is not defined",
     "output_type": "error",
     "traceback": [
      "\u001b[0;31m---------------------------------------------------------------------------\u001b[0m",
      "\u001b[0;31mNameError\u001b[0m                                 Traceback (most recent call last)",
      "Cell \u001b[0;32mIn [18], line 2\u001b[0m\n\u001b[1;32m      1\u001b[0m \u001b[39m#barWidth = 0.5\u001b[39;00m\n\u001b[0;32m----> 2\u001b[0m plt\u001b[39m.\u001b[39mbar(\u001b[39mrange\u001b[39m(\u001b[39m2\u001b[39m),[normal, frauduleux])\n\u001b[1;32m      3\u001b[0m \u001b[39m#plt.bar([normal],[136961], width = barWidth, color='b', label = 'Normal');\u001b[39;00m\n\u001b[1;32m      4\u001b[0m \u001b[39m#plt.bar([frauduleux],[14151], width = barWidth, color='g', label = 'Fraude');\u001b[39;00m\n\u001b[1;32m      5\u001b[0m \u001b[39m#plt.xticks([0,2], ['Normal', 'Frauduleuse'])\u001b[39;00m\n\u001b[1;32m      6\u001b[0m plt\u001b[39m.\u001b[39mxlabel(\u001b[39m'\u001b[39m\u001b[39mNormal vs Fraude\u001b[39m\u001b[39m'\u001b[39m)\n",
      "\u001b[0;31mNameError\u001b[0m: name 'plt' is not defined"
     ]
    }
   ],
   "source": [
    "#barWidth = 0.5\n",
    "plt.bar(range(2),[normal, frauduleux])\n",
    "#plt.bar([normal],[136961], width = barWidth, color='b', label = 'Normal');\n",
    "#plt.bar([frauduleux],[14151], width = barWidth, color='g', label = 'Fraude');\n",
    "#plt.xticks([0,2], ['Normal', 'Frauduleuse'])\n",
    "plt.xlabel('Normal vs Fraude')\n",
    "plt.ylabel('Nombre de transactions')\n",
    "#plt.legend()\n",
    "plt.xticks(range(2), [\"Normal\",\"Frauduleux\"])\n",
    "plt.title('Distribution du nombre de transactions');\n",
    "transactions.plot.hist(y=['purchase_value', 'is_fraud'], bins = 2, rwidth = 0.8 , color= ['#0c4c83', '#830c4c'], alpha=0.5);\n",
    "\n",
    "transactions['is_fraud'].value_counts()"
   ]
  },
  {
   "cell_type": "code",
   "execution_count": 19,
   "id": "7c77c5d3",
   "metadata": {
    "scrolled": true
   },
   "outputs": [
    {
     "ename": "NameError",
     "evalue": "name 'plt' is not defined",
     "output_type": "error",
     "traceback": [
      "\u001b[0;31m---------------------------------------------------------------------------\u001b[0m",
      "\u001b[0;31mNameError\u001b[0m                                 Traceback (most recent call last)",
      "Cell \u001b[0;32mIn [19], line 1\u001b[0m\n\u001b[0;32m----> 1\u001b[0m plt\u001b[39m.\u001b[39mfigure(figsize\u001b[39m=\u001b[39m(\u001b[39m8\u001b[39m,\u001b[39m8\u001b[39m))\n\u001b[1;32m      3\u001b[0m explode \u001b[39m=\u001b[39m [\u001b[39m0\u001b[39m,\u001b[39m0.001\u001b[39m]\n\u001b[1;32m      4\u001b[0m plt\u001b[39m.\u001b[39mpie(transactions[\u001b[39m'\u001b[39m\u001b[39mis_fraud\u001b[39m\u001b[39m'\u001b[39m]\u001b[39m.\u001b[39mvalue_counts(), explode\u001b[39m=\u001b[39mexplode,autopct\u001b[39m=\u001b[39m\u001b[39m'\u001b[39m\u001b[39m%1.2f\u001b[39;00m\u001b[39m%%\u001b[39;00m\u001b[39m'\u001b[39m, shadow\u001b[39m=\u001b[39m\u001b[39mTrue\u001b[39;00m,startangle\u001b[39m=\u001b[39m\u001b[39m100\u001b[39m)\n",
      "\u001b[0;31mNameError\u001b[0m: name 'plt' is not defined"
     ]
    }
   ],
   "source": [
    "plt.figure(figsize=(8,8))\n",
    "\n",
    "explode = [0,0.001]\n",
    "plt.pie(transactions['is_fraud'].value_counts(), explode=explode,autopct='%1.2f%%', shadow=True,startangle=100)\n",
    "plt.legend(labels=['0','1'])\n",
    "plt.title('Distribution');\n",
    "\n",
    "print('No Fraud', round(transactions['is_fraud'].value_counts()[0]/len(transactions) * 100,2), '% de la base de données')\n",
    "print('Fraud', round(transactions['is_fraud'].value_counts()[1]/len(transactions) * 100,2), '% de la base de données')"
   ]
  },
  {
   "cell_type": "markdown",
   "id": "5368aa15",
   "metadata": {},
   "source": [
    "Le jeu de données semble présenter un déséquilibre important qui \n",
    "nécessiterait put-être une méthode de split particulière afin\n",
    "d'éviter un overfitting\n"
   ]
  },
  {
   "cell_type": "code",
   "execution_count": 20,
   "id": "aa381799",
   "metadata": {
    "scrolled": false
   },
   "outputs": [
    {
     "ename": "NameError",
     "evalue": "name 'sns' is not defined",
     "output_type": "error",
     "traceback": [
      "\u001b[0;31m---------------------------------------------------------------------------\u001b[0m",
      "\u001b[0;31mNameError\u001b[0m                                 Traceback (most recent call last)",
      "Cell \u001b[0;32mIn [20], line 2\u001b[0m\n\u001b[1;32m      1\u001b[0m \u001b[39m# Nombre de fraudes par sexe (is_fraud Vs sex)\u001b[39;00m\n\u001b[0;32m----> 2\u001b[0m sns\u001b[39m.\u001b[39mcountplot(x\u001b[39m=\u001b[39m\u001b[39m\"\u001b[39m\u001b[39msex\u001b[39m\u001b[39m\"\u001b[39m, hue\u001b[39m=\u001b[39m\u001b[39m\"\u001b[39m\u001b[39mis_fraud\u001b[39m\u001b[39m\"\u001b[39m, data\u001b[39m=\u001b[39mtransactions);\n",
      "\u001b[0;31mNameError\u001b[0m: name 'sns' is not defined"
     ]
    }
   ],
   "source": [
    "# Nombre de fraudes par sexe (is_fraud Vs sex)\n",
    "sns.countplot(x=\"sex\", hue=\"is_fraud\", data=transactions);"
   ]
  },
  {
   "cell_type": "code",
   "execution_count": 21,
   "id": "e55a421f",
   "metadata": {
    "scrolled": true
   },
   "outputs": [
    {
     "ename": "NameError",
     "evalue": "name 'plt' is not defined",
     "output_type": "error",
     "traceback": [
      "\u001b[0;31m---------------------------------------------------------------------------\u001b[0m",
      "\u001b[0;31mNameError\u001b[0m                                 Traceback (most recent call last)",
      "Cell \u001b[0;32mIn [21], line 1\u001b[0m\n\u001b[0;32m----> 1\u001b[0m plt\u001b[39m.\u001b[39mfigure(figsize \u001b[39m=\u001b[39m (\u001b[39m15\u001b[39m,\u001b[39m6\u001b[39m),dpi \u001b[39m=\u001b[39m \u001b[39m100\u001b[39m)\n\u001b[1;32m      2\u001b[0m sns\u001b[39m.\u001b[39mbarplot(x \u001b[39m=\u001b[39m transactions\u001b[39m.\u001b[39mcorr()[\u001b[39m\"\u001b[39m\u001b[39mis_fraud\u001b[39m\u001b[39m\"\u001b[39m]\u001b[39m.\u001b[39mdrop(index\u001b[39m=\u001b[39m\u001b[39m\"\u001b[39m\u001b[39mis_fraud\u001b[39m\u001b[39m\"\u001b[39m)\u001b[39m.\u001b[39msort_values(ascending\u001b[39m=\u001b[39m\u001b[39mFalse\u001b[39;00m)\u001b[39m.\u001b[39mindex,\n\u001b[1;32m      3\u001b[0m             y \u001b[39m=\u001b[39m transactions\u001b[39m.\u001b[39mcorr()[\u001b[39m\"\u001b[39m\u001b[39mis_fraud\u001b[39m\u001b[39m\"\u001b[39m]\u001b[39m.\u001b[39mdrop(index\u001b[39m=\u001b[39m\u001b[39m\"\u001b[39m\u001b[39mis_fraud\u001b[39m\u001b[39m\"\u001b[39m)\u001b[39m.\u001b[39msort_values(ascending\u001b[39m=\u001b[39m\u001b[39mFalse\u001b[39;00m)\u001b[39m.\u001b[39mvalues)\n\u001b[1;32m      4\u001b[0m plt\u001b[39m.\u001b[39mxticks(rotation \u001b[39m=\u001b[39m \u001b[39m45\u001b[39m);\n",
      "\u001b[0;31mNameError\u001b[0m: name 'plt' is not defined"
     ]
    }
   ],
   "source": [
    "plt.figure(figsize = (15,6),dpi = 100)\n",
    "sns.barplot(x = transactions.corr()[\"is_fraud\"].drop(index=\"is_fraud\").sort_values(ascending=False).index,\n",
    "            y = transactions.corr()[\"is_fraud\"].drop(index=\"is_fraud\").sort_values(ascending=False).values)\n",
    "plt.xticks(rotation = 45);"
   ]
  },
  {
   "cell_type": "code",
   "execution_count": 22,
   "id": "94fe4853",
   "metadata": {},
   "outputs": [
    {
     "ename": "ModuleNotFoundError",
     "evalue": "No module named 'category_encoders'",
     "output_type": "error",
     "traceback": [
      "\u001b[0;31m---------------------------------------------------------------------------\u001b[0m",
      "\u001b[0;31mModuleNotFoundError\u001b[0m                       Traceback (most recent call last)",
      "Cell \u001b[0;32mIn [22], line 2\u001b[0m\n\u001b[1;32m      1\u001b[0m \u001b[39m# importing the libraries\u001b[39;00m\n\u001b[0;32m----> 2\u001b[0m \u001b[39mimport\u001b[39;00m \u001b[39mcategory_encoders\u001b[39;00m \u001b[39mas\u001b[39;00m \u001b[39mcat_encoder\u001b[39;00m\n\u001b[1;32m      3\u001b[0m \u001b[39mfrom\u001b[39;00m \u001b[39msklearn\u001b[39;00m\u001b[39m.\u001b[39;00m\u001b[39mpreprocessing\u001b[39;00m \u001b[39mimport\u001b[39;00m LabelBinarizer\n\u001b[1;32m      4\u001b[0m \u001b[39mimport\u001b[39;00m \u001b[39mpandas\u001b[39;00m \u001b[39mas\u001b[39;00m \u001b[39mpd\u001b[39;00m\n",
      "\u001b[0;31mModuleNotFoundError\u001b[0m: No module named 'category_encoders'"
     ]
    }
   ],
   "source": [
    "# importing the libraries\n",
    "import category_encoders as cat_encoder\n",
    "from sklearn.preprocessing import LabelBinarizer\n",
    "import pandas as pd\n",
    "  \n",
    "# création d'une copie du DataFrame original\n",
    "transactions1 = transactions.copy()\n",
    "\n",
    "# creating an object BinaryEncoder\n",
    "# this code calls all columns\n",
    "# we can specify specific columns as well\n",
    "encoder = cat_encoder.BinaryEncoder(cols = transactions1)\n",
    "  \n",
    "# fitting the columns to a data frame\n",
    "df_category_encoder = encoder.fit_transform( transactions1 )\n",
    "  \n",
    "display(df_category_encoder)"
   ]
  },
  {
   "cell_type": "code",
   "execution_count": 23,
   "id": "d1b2030e",
   "metadata": {},
   "outputs": [],
   "source": [
    "# Import de librairies Sklearn\n",
    "from sklearn.pipeline import Pipeline\n",
    "from sklearn import metrics\n",
    "from sklearn import preprocessing\n",
    "from sklearn import model_selection\n",
    "from sklearn.metrics import classification_report, confusion_matrix, roc_curve, roc_auc_score,auc, accuracy_score, precision_score, recall_score,f1_score\n",
    "from sklearn.linear_model import LogisticRegression\n",
    "from sklearn.model_selection import train_test_split"
   ]
  },
  {
   "cell_type": "code",
   "execution_count": 24,
   "id": "7db3dd5f",
   "metadata": {},
   "outputs": [],
   "source": [
    "#import package pickle et joblib\n",
    "import pickle, joblib"
   ]
  },
  {
   "cell_type": "code",
   "execution_count": 25,
   "id": "cae9cd78",
   "metadata": {},
   "outputs": [
    {
     "ename": "NameError",
     "evalue": "name 'X' is not defined",
     "output_type": "error",
     "traceback": [
      "\u001b[0;31m---------------------------------------------------------------------------\u001b[0m",
      "\u001b[0;31mNameError\u001b[0m                                 Traceback (most recent call last)",
      "Cell \u001b[0;32mIn [25], line 3\u001b[0m\n\u001b[1;32m      1\u001b[0m \u001b[39m#Création des tableaux X_train, X_test, y_train, y_test. Détermination du pourcentage de données pour les \u001b[39;00m\n\u001b[1;32m      2\u001b[0m \u001b[39m#sets de données d'entraînement et de test\u001b[39;00m\n\u001b[0;32m----> 3\u001b[0m X_train, X_test, y_train, y_test \u001b[39m=\u001b[39m train_test_split(X,y,test_size\u001b[39m=\u001b[39m\u001b[39m0.2\u001b[39m) \n\u001b[1;32m      4\u001b[0m \u001b[39m#répartition des données 80% train, 20% test\u001b[39;00m\n\u001b[1;32m      5\u001b[0m \u001b[39mprint\u001b[39m(\u001b[39m'\u001b[39m\u001b[39mTrain set:\u001b[39m\u001b[39m'\u001b[39m, X_train\u001b[39m.\u001b[39mshape)\n",
      "\u001b[0;31mNameError\u001b[0m: name 'X' is not defined"
     ]
    }
   ],
   "source": [
    "#Création des tableaux X_train, X_test, y_train, y_test. Détermination du pourcentage de données pour les \n",
    "#sets de données d'entraînement et de test\n",
    "X_train, X_test, y_train, y_test = train_test_split(X,y,test_size=0.2) \n",
    "#répartition des données 80% train, 20% test\n",
    "print('Train set:', X_train.shape)\n",
    "print('Test set:', X_test.shape)\n",
    "X_train, X_test, y_train, y_test = train_test_split(X, y, test_size=0.2, \n",
    "random_state=1)\n"
   ]
  },
  {
   "cell_type": "code",
   "execution_count": 26,
   "id": "0140a8ad",
   "metadata": {
    "scrolled": true
   },
   "outputs": [
    {
     "ename": "NameError",
     "evalue": "name 'X_train' is not defined",
     "output_type": "error",
     "traceback": [
      "\u001b[0;31m---------------------------------------------------------------------------\u001b[0m",
      "\u001b[0;31mNameError\u001b[0m                                 Traceback (most recent call last)",
      "Cell \u001b[0;32mIn [26], line 7\u001b[0m\n\u001b[1;32m      5\u001b[0m \u001b[39m#from preprocessing import LabelEncoder\u001b[39;00m\n\u001b[1;32m      6\u001b[0m LE \u001b[39m=\u001b[39m preprocessing\u001b[39m.\u001b[39mLabelEncoder()\n\u001b[0;32m----> 7\u001b[0m \u001b[39mfor\u001b[39;00m col \u001b[39min\u001b[39;00m X_train\u001b[39m.\u001b[39mcolumns:\n\u001b[1;32m      8\u001b[0m     \u001b[39mif\u001b[39;00m X_train[col]\u001b[39m.\u001b[39mdtype \u001b[39m==\u001b[39m \u001b[39m'\u001b[39m\u001b[39mobject\u001b[39m\u001b[39m'\u001b[39m:\n\u001b[1;32m      9\u001b[0m         LE\u001b[39m=\u001b[39mLabelEncoder()\n",
      "\u001b[0;31mNameError\u001b[0m: name 'X_train' is not defined"
     ]
    }
   ],
   "source": [
    "#Encodage des variables alphanumériques\n",
    "\n",
    "from sklearn import preprocessing\n",
    "from sklearn.preprocessing import LabelEncoder\n",
    "#from preprocessing import LabelEncoder\n",
    "LE = preprocessing.LabelEncoder()\n",
    "for col in X_train.columns:\n",
    "    if X_train[col].dtype == 'object':\n",
    "        LE=LabelEncoder()\n",
    "        LE.fit(list(X_train[col].astype(str).values)+list(X_test[col].astype(str).values))\n",
    "        X_train[col] = LE.transform(list(X_train[col].astype(str).values))\n",
    "        X_test[col] = LE.transform(list(X_test[col].astype(str).values))\n",
    "X_train.head()    "
   ]
  },
  {
   "cell_type": "markdown",
   "id": "09d961e3",
   "metadata": {},
   "source": [
    "# Etape 4: Modélisation et Prédiction"
   ]
  },
  {
   "cell_type": "code",
   "execution_count": 27,
   "id": "07c7a8ca",
   "metadata": {},
   "outputs": [],
   "source": [
    "from sklearn.neighbors import KNeighborsClassifier\n",
    "from sklearn.model_selection import GridSearchCV\n",
    "from sklearn.preprocessing import LabelEncoder\n",
    "import numpy as np"
   ]
  },
  {
   "cell_type": "markdown",
   "id": "4f9dad59",
   "metadata": {},
   "source": [
    "# Modèle de Régression Logistique sans ré-échantillonnage"
   ]
  },
  {
   "cell_type": "code",
   "execution_count": 28,
   "id": "d8b7fdfb",
   "metadata": {
    "scrolled": true
   },
   "outputs": [
    {
     "ename": "NameError",
     "evalue": "name 'X_train' is not defined",
     "output_type": "error",
     "traceback": [
      "\u001b[0;31m---------------------------------------------------------------------------\u001b[0m",
      "\u001b[0;31mNameError\u001b[0m                                 Traceback (most recent call last)",
      "Cell \u001b[0;32mIn [28], line 5\u001b[0m\n\u001b[1;32m      2\u001b[0m \u001b[39m#logistic_model = LogisticRegression(solver='sag')\u001b[39;00m\n\u001b[1;32m      3\u001b[0m \u001b[39m#instanciation et apprentissage\u001b[39;00m\n\u001b[1;32m      4\u001b[0m lr \u001b[39m=\u001b[39m LogisticRegression()\n\u001b[0;32m----> 5\u001b[0m lr\u001b[39m.\u001b[39mfit(X\u001b[39m=\u001b[39mX_train, y\u001b[39m=\u001b[39my_train)\n\u001b[1;32m      6\u001b[0m \u001b[39m#affichage de l'intercept\u001b[39;00m\n\u001b[1;32m      7\u001b[0m \u001b[39mprint\u001b[39m(lr\u001b[39m.\u001b[39mintercept_)\n",
      "\u001b[0;31mNameError\u001b[0m: name 'X_train' is not defined"
     ]
    }
   ],
   "source": [
    "from sklearn.linear_model import LogisticRegression\n",
    "#logistic_model = LogisticRegression(solver='sag')\n",
    "#instanciation et apprentissage\n",
    "lr = LogisticRegression()\n",
    "lr.fit(X=X_train, y=y_train)\n",
    "#affichage de l'intercept\n",
    "print(lr.intercept_)\n",
    "temp = pd.DataFrame(lr.coef_)\n",
    "print(lr.coef_)\n",
    "#Prediction test\n",
    "predbrut = lr.predict(X_test)\n",
    "#Affichage\n",
    "import numpy\n",
    "print(numpy.unique(predbrut, return_counts=True))\n",
    "#matrice de confusion\n",
    "from sklearn import metrics\n",
    "print(metrics.confusion_matrix(y_test, predbrut))\n",
    "#Rapport de classification\n",
    "print(metrics.classification_report(y_test, predbrut))\n"
   ]
  },
  {
   "cell_type": "markdown",
   "id": "35c779a6",
   "metadata": {},
   "source": [
    "# Modèle de Régression Logistique avec Ré-échantillonnage"
   ]
  },
  {
   "cell_type": "code",
   "execution_count": 29,
   "id": "202e35d3",
   "metadata": {
    "scrolled": true
   },
   "outputs": [
    {
     "ename": "ModuleNotFoundError",
     "evalue": "No module named 'imblearn'",
     "output_type": "error",
     "traceback": [
      "\u001b[0;31m---------------------------------------------------------------------------\u001b[0m",
      "\u001b[0;31mModuleNotFoundError\u001b[0m                       Traceback (most recent call last)",
      "Cell \u001b[0;32mIn [29], line 3\u001b[0m\n\u001b[1;32m      1\u001b[0m \u001b[39m#Essai Suréchantillonnage\u001b[39;00m\n\u001b[0;32m----> 3\u001b[0m \u001b[39mfrom\u001b[39;00m \u001b[39mimblearn\u001b[39;00m \u001b[39mimport\u001b[39;00m under_sampling, over_sampling\n\u001b[1;32m      5\u001b[0m \u001b[39mfrom\u001b[39;00m \u001b[39msklearn\u001b[39;00m\u001b[39m.\u001b[39;00m\u001b[39mlinear_model\u001b[39;00m \u001b[39mimport\u001b[39;00m LogisticRegression\n\u001b[1;32m      6\u001b[0m \u001b[39mfrom\u001b[39;00m \u001b[39mimblearn\u001b[39;00m\u001b[39m.\u001b[39;00m\u001b[39mover_sampling\u001b[39;00m \u001b[39mimport\u001b[39;00m RandomOverSampler\n",
      "\u001b[0;31mModuleNotFoundError\u001b[0m: No module named 'imblearn'"
     ]
    }
   ],
   "source": [
    "#Essai Suréchantillonnage\n",
    "\n",
    "from imblearn import under_sampling, over_sampling\n",
    "\n",
    "from sklearn.linear_model import LogisticRegression\n",
    "from imblearn.over_sampling import RandomOverSampler\n",
    "from imblearn.under_sampling import RandomUnderSampler\n",
    "\n",
    "# Sur-échantillonnage\n",
    "rOs = RandomOverSampler('minority')\n",
    "X_ro, y_ro = rOs.fit_resample(X_train, y_train)\n",
    "# Entraînement du modèle de régression logistique\n",
    "lr = LogisticRegression()\n",
    "lr.fit(X_ro, y_ro)\n",
    "# Affichage des résultats\n",
    "y_pred = lr.predict(X_test)\n",
    "print(classification_report(y_test, y_pred))"
   ]
  },
  {
   "cell_type": "markdown",
   "id": "4f2db613",
   "metadata": {},
   "source": [
    "Le modèle avec ré-échantillonnage des données produit de meilleurs résultats"
   ]
  },
  {
   "cell_type": "code",
   "execution_count": 30,
   "id": "def41a9e",
   "metadata": {
    "scrolled": true
   },
   "outputs": [
    {
     "ename": "NameError",
     "evalue": "name 'X_ro' is not defined",
     "output_type": "error",
     "traceback": [
      "\u001b[0;31m---------------------------------------------------------------------------\u001b[0m",
      "\u001b[0;31mNameError\u001b[0m                                 Traceback (most recent call last)",
      "Cell \u001b[0;32mIn [30], line 11\u001b[0m\n\u001b[1;32m      1\u001b[0m \u001b[39m# Modèle 1: Logistic Regression\u001b[39;00m\n\u001b[1;32m      2\u001b[0m \u001b[39m#Effectuer la GridSearch\u001b[39;00m\n\u001b[1;32m      4\u001b[0m gridsearch_LG \u001b[39m=\u001b[39m GridSearchCV(\n\u001b[1;32m      5\u001b[0m     estimator\u001b[39m=\u001b[39m LogisticRegression(),\n\u001b[1;32m      6\u001b[0m     param_grid\u001b[39m=\u001b[39m{\u001b[39m'\u001b[39m\u001b[39msolver\u001b[39m\u001b[39m'\u001b[39m:[\u001b[39m'\u001b[39m\u001b[39mlbfgs\u001b[39m\u001b[39m'\u001b[39m,\u001b[39m'\u001b[39m\u001b[39msaga\u001b[39m\u001b[39m'\u001b[39m,\u001b[39m'\u001b[39m\u001b[39msag\u001b[39m\u001b[39m'\u001b[39m,\u001b[39m'\u001b[39m\u001b[39mnewton-cg\u001b[39m\u001b[39m'\u001b[39m], \u001b[39m'\u001b[39m\u001b[39mpenalty\u001b[39m\u001b[39m'\u001b[39m:[\u001b[39m'\u001b[39m\u001b[39melasticnet\u001b[39m\u001b[39m'\u001b[39m,\u001b[39m'\u001b[39m\u001b[39mnone\u001b[39m\u001b[39m'\u001b[39m, \u001b[39m'\u001b[39m\u001b[39ml1\u001b[39m\u001b[39m'\u001b[39m,\u001b[39m'\u001b[39m\u001b[39ml2\u001b[39m\u001b[39m'\u001b[39m]},\n\u001b[1;32m      7\u001b[0m     cv\u001b[39m=\u001b[39m\u001b[39m9\u001b[39m,\n\u001b[1;32m      8\u001b[0m     scoring\u001b[39m=\u001b[39m\u001b[39m'\u001b[39m\u001b[39maccuracy\u001b[39m\u001b[39m'\u001b[39m\n\u001b[1;32m      9\u001b[0m     )\n\u001b[0;32m---> 11\u001b[0m gridsearch_LG\u001b[39m.\u001b[39mfit(X_ro, y_ro) \n",
      "\u001b[0;31mNameError\u001b[0m: name 'X_ro' is not defined"
     ]
    }
   ],
   "source": [
    "# Modèle 1: Logistic Regression\n",
    "#Effectuer la GridSearch\n",
    "\n",
    "gridsearch_LG = GridSearchCV(\n",
    "    estimator= LogisticRegression(),\n",
    "    param_grid={'solver':['lbfgs','saga','sag','newton-cg'], 'penalty':['elasticnet','none', 'l1','l2']},\n",
    "    cv=9,\n",
    "    scoring='accuracy'\n",
    "    )\n",
    "\n",
    "gridsearch_LG.fit(X_ro, y_ro) "
   ]
  },
  {
   "cell_type": "code",
   "execution_count": 31,
   "id": "566dced6",
   "metadata": {},
   "outputs": [
    {
     "ename": "AttributeError",
     "evalue": "'GridSearchCV' object has no attribute 'best_params_'",
     "output_type": "error",
     "traceback": [
      "\u001b[0;31m---------------------------------------------------------------------------\u001b[0m",
      "\u001b[0;31mAttributeError\u001b[0m                            Traceback (most recent call last)",
      "Cell \u001b[0;32mIn [31], line 1\u001b[0m\n\u001b[0;32m----> 1\u001b[0m \u001b[39mprint\u001b[39m(gridsearch_LG\u001b[39m.\u001b[39;49mbest_params_)\n",
      "\u001b[0;31mAttributeError\u001b[0m: 'GridSearchCV' object has no attribute 'best_params_'"
     ]
    }
   ],
   "source": [
    "print(gridsearch_LG.best_params_)"
   ]
  },
  {
   "cell_type": "code",
   "execution_count": 32,
   "id": "c7e88986",
   "metadata": {
    "scrolled": true
   },
   "outputs": [
    {
     "name": "stdout",
     "output_type": "stream",
     "text": [
      "{'knn__n_neighbors': [1, 3, 9, 21, 51, 15, 20, 25, 30]}\n"
     ]
    },
    {
     "ename": "NameError",
     "evalue": "name 'X_ro' is not defined",
     "output_type": "error",
     "traceback": [
      "\u001b[0;31m---------------------------------------------------------------------------\u001b[0m",
      "\u001b[0;31mNameError\u001b[0m                                 Traceback (most recent call last)",
      "Cell \u001b[0;32mIn [32], line 18\u001b[0m\n\u001b[1;32m     13\u001b[0m \u001b[39m#KNN_MODEL['hyperparams']['knn__weights'] = ['uniform', 'distance']\u001b[39;00m\n\u001b[1;32m     16\u001b[0m \u001b[39mprint\u001b[39m(KNN_MODEL[\u001b[39m'\u001b[39m\u001b[39mhyperparams\u001b[39m\u001b[39m'\u001b[39m])\n\u001b[0;32m---> 18\u001b[0m scores \u001b[39m=\u001b[39m cross_val_score(KNN(), X_ro, y_ro, cv\u001b[39m=\u001b[39m\u001b[39m9\u001b[39m, scoring\u001b[39m=\u001b[39m\u001b[39m'\u001b[39m\u001b[39maccuracy\u001b[39m\u001b[39m'\u001b[39m)\n\u001b[1;32m     20\u001b[0m \u001b[39mprint\u001b[39m(scores)\n\u001b[1;32m     22\u001b[0m \u001b[39m# Effectuer la GridSearch\u001b[39;00m\n",
      "\u001b[0;31mNameError\u001b[0m: name 'X_ro' is not defined"
     ]
    }
   ],
   "source": [
    "# Modèle 2: KNeighborsClassifier\n",
    "# Effectuer la GridSearch\n",
    "from sklearn.neighbors import KNeighborsClassifier as KNN\n",
    "from sklearn.model_selection import cross_val_score\n",
    "\n",
    "# Instanciation du dictionnaire\n",
    "KNN_MODEL = {}\n",
    "\n",
    "\n",
    "# Définiton grille d'hyper-paramètres\n",
    "KNN_MODEL['hyperparams'] = {}\n",
    "KNN_MODEL['hyperparams']['knn__n_neighbors'] = [1, 3, 9, 21, 51, 15, 20, 25, 30]\n",
    "#KNN_MODEL['hyperparams']['knn__weights'] = ['uniform', 'distance']\n",
    "\n",
    "\n",
    "print(KNN_MODEL['hyperparams'])\n",
    "\n",
    "scores = cross_val_score(KNN(), X_ro, y_ro, cv=9, scoring='accuracy')\n",
    "\n",
    "print(scores)\n",
    "\n",
    "# Effectuer la GridSearch\n",
    "gridsearch = GridSearchCV(\n",
    "    estimator= KNN(),\n",
    "    param_grid={'n_neighbors':[1, 3, 9, 21, 51, 15, 20, 25, 30], 'metric':['euclidean','manhattan'], 'weights':['distance','uniform']},\n",
    "    #param_grid={'n_neighbors':np.arange(1,20)},\n",
    "    cv=9,\n",
    "    scoring='accuracy'\n",
    "    )\n",
    "\n",
    "gridsearch.fit(X_ro, y_ro) "
   ]
  },
  {
   "cell_type": "code",
   "execution_count": 33,
   "id": "b2228c54",
   "metadata": {
    "scrolled": false
   },
   "outputs": [
    {
     "ename": "NameError",
     "evalue": "name 'gridsearch' is not defined",
     "output_type": "error",
     "traceback": [
      "\u001b[0;31m---------------------------------------------------------------------------\u001b[0m",
      "\u001b[0;31mNameError\u001b[0m                                 Traceback (most recent call last)",
      "Cell \u001b[0;32mIn [33], line 1\u001b[0m\n\u001b[0;32m----> 1\u001b[0m \u001b[39mprint\u001b[39m(gridsearch\u001b[39m.\u001b[39mbest_params_)\n",
      "\u001b[0;31mNameError\u001b[0m: name 'gridsearch' is not defined"
     ]
    }
   ],
   "source": [
    "print(gridsearch.best_params_)"
   ]
  },
  {
   "cell_type": "code",
   "execution_count": 39,
   "id": "2994b7c9",
   "metadata": {
    "scrolled": false
   },
   "outputs": [
    {
     "name": "stdout",
     "output_type": "stream",
     "text": [
      "Accuracy du modèle 2 est de : 0.8993481785395229\n",
      "La précision du modèle 2 est de : 0.47291732657586316\n",
      "Le Score F1 du modèle 2 est de : 0.4953550099535501\n"
     ]
    }
   ],
   "source": [
    "#Prédiction\n",
    "\n",
    "predictions=gridsearch.predict(X_test)\n",
    "\n",
    "print('Accuracy du modèle 2 est de :', accuracy_score(y_test,predictions))\n",
    "print('La précision du modèle 2 est de :', precision_score(y_test,predictions))\n",
    "print('Le Score F1 du modèle 2 est de :', f1_score(y_test,predictions))"
   ]
  },
  {
   "cell_type": "code",
   "execution_count": 35,
   "id": "f45fbbd7",
   "metadata": {},
   "outputs": [
    {
     "data": {
      "text/html": [
       "<style>#sk-container-id-4 {color: black;background-color: white;}#sk-container-id-4 pre{padding: 0;}#sk-container-id-4 div.sk-toggleable {background-color: white;}#sk-container-id-4 label.sk-toggleable__label {cursor: pointer;display: block;width: 100%;margin-bottom: 0;padding: 0.3em;box-sizing: border-box;text-align: center;}#sk-container-id-4 label.sk-toggleable__label-arrow:before {content: \"▸\";float: left;margin-right: 0.25em;color: #696969;}#sk-container-id-4 label.sk-toggleable__label-arrow:hover:before {color: black;}#sk-container-id-4 div.sk-estimator:hover label.sk-toggleable__label-arrow:before {color: black;}#sk-container-id-4 div.sk-toggleable__content {max-height: 0;max-width: 0;overflow: hidden;text-align: left;background-color: #f0f8ff;}#sk-container-id-4 div.sk-toggleable__content pre {margin: 0.2em;color: black;border-radius: 0.25em;background-color: #f0f8ff;}#sk-container-id-4 input.sk-toggleable__control:checked~div.sk-toggleable__content {max-height: 200px;max-width: 100%;overflow: auto;}#sk-container-id-4 input.sk-toggleable__control:checked~label.sk-toggleable__label-arrow:before {content: \"▾\";}#sk-container-id-4 div.sk-estimator input.sk-toggleable__control:checked~label.sk-toggleable__label {background-color: #d4ebff;}#sk-container-id-4 div.sk-label input.sk-toggleable__control:checked~label.sk-toggleable__label {background-color: #d4ebff;}#sk-container-id-4 input.sk-hidden--visually {border: 0;clip: rect(1px 1px 1px 1px);clip: rect(1px, 1px, 1px, 1px);height: 1px;margin: -1px;overflow: hidden;padding: 0;position: absolute;width: 1px;}#sk-container-id-4 div.sk-estimator {font-family: monospace;background-color: #f0f8ff;border: 1px dotted black;border-radius: 0.25em;box-sizing: border-box;margin-bottom: 0.5em;}#sk-container-id-4 div.sk-estimator:hover {background-color: #d4ebff;}#sk-container-id-4 div.sk-parallel-item::after {content: \"\";width: 100%;border-bottom: 1px solid gray;flex-grow: 1;}#sk-container-id-4 div.sk-label:hover label.sk-toggleable__label {background-color: #d4ebff;}#sk-container-id-4 div.sk-serial::before {content: \"\";position: absolute;border-left: 1px solid gray;box-sizing: border-box;top: 0;bottom: 0;left: 50%;z-index: 0;}#sk-container-id-4 div.sk-serial {display: flex;flex-direction: column;align-items: center;background-color: white;padding-right: 0.2em;padding-left: 0.2em;position: relative;}#sk-container-id-4 div.sk-item {position: relative;z-index: 1;}#sk-container-id-4 div.sk-parallel {display: flex;align-items: stretch;justify-content: center;background-color: white;position: relative;}#sk-container-id-4 div.sk-item::before, #sk-container-id-4 div.sk-parallel-item::before {content: \"\";position: absolute;border-left: 1px solid gray;box-sizing: border-box;top: 0;bottom: 0;left: 50%;z-index: -1;}#sk-container-id-4 div.sk-parallel-item {display: flex;flex-direction: column;z-index: 1;position: relative;background-color: white;}#sk-container-id-4 div.sk-parallel-item:first-child::after {align-self: flex-end;width: 50%;}#sk-container-id-4 div.sk-parallel-item:last-child::after {align-self: flex-start;width: 50%;}#sk-container-id-4 div.sk-parallel-item:only-child::after {width: 0;}#sk-container-id-4 div.sk-dashed-wrapped {border: 1px dashed gray;margin: 0 0.4em 0.5em 0.4em;box-sizing: border-box;padding-bottom: 0.4em;background-color: white;}#sk-container-id-4 div.sk-label label {font-family: monospace;font-weight: bold;display: inline-block;line-height: 1.2em;}#sk-container-id-4 div.sk-label-container {text-align: center;}#sk-container-id-4 div.sk-container {/* jupyter's `normalize.less` sets `[hidden] { display: none; }` but bootstrap.min.css set `[hidden] { display: none !important; }` so we also need the `!important` here to be able to override the default hidden behavior on the sphinx rendered scikit-learn.org. See: https://github.com/scikit-learn/scikit-learn/issues/21755 */display: inline-block !important;position: relative;}#sk-container-id-4 div.sk-text-repr-fallback {display: none;}</style><div id=\"sk-container-id-4\" class=\"sk-top-container\"><div class=\"sk-text-repr-fallback\"><pre>GridSearchCV(cv=5, estimator=RandomForestClassifier(),\n",
       "             param_grid={&#x27;max_depth&#x27;: [15, 30], &#x27;max_features&#x27;: [10, 20],\n",
       "                         &#x27;min_samples_leaf&#x27;: [200], &#x27;n_estimators&#x27;: [25, 50],\n",
       "                         &#x27;n_jobs&#x27;: [1]})</pre><b>In a Jupyter environment, please rerun this cell to show the HTML representation or trust the notebook. <br />On GitHub, the HTML representation is unable to render, please try loading this page with nbviewer.org.</b></div><div class=\"sk-container\" hidden><div class=\"sk-item sk-dashed-wrapped\"><div class=\"sk-label-container\"><div class=\"sk-label sk-toggleable\"><input class=\"sk-toggleable__control sk-hidden--visually\" id=\"sk-estimator-id-10\" type=\"checkbox\" ><label for=\"sk-estimator-id-10\" class=\"sk-toggleable__label sk-toggleable__label-arrow\">GridSearchCV</label><div class=\"sk-toggleable__content\"><pre>GridSearchCV(cv=5, estimator=RandomForestClassifier(),\n",
       "             param_grid={&#x27;max_depth&#x27;: [15, 30], &#x27;max_features&#x27;: [10, 20],\n",
       "                         &#x27;min_samples_leaf&#x27;: [200], &#x27;n_estimators&#x27;: [25, 50],\n",
       "                         &#x27;n_jobs&#x27;: [1]})</pre></div></div></div><div class=\"sk-parallel\"><div class=\"sk-parallel-item\"><div class=\"sk-item\"><div class=\"sk-label-container\"><div class=\"sk-label sk-toggleable\"><input class=\"sk-toggleable__control sk-hidden--visually\" id=\"sk-estimator-id-11\" type=\"checkbox\" ><label for=\"sk-estimator-id-11\" class=\"sk-toggleable__label sk-toggleable__label-arrow\">estimator: RandomForestClassifier</label><div class=\"sk-toggleable__content\"><pre>RandomForestClassifier()</pre></div></div></div><div class=\"sk-serial\"><div class=\"sk-item\"><div class=\"sk-estimator sk-toggleable\"><input class=\"sk-toggleable__control sk-hidden--visually\" id=\"sk-estimator-id-12\" type=\"checkbox\" ><label for=\"sk-estimator-id-12\" class=\"sk-toggleable__label sk-toggleable__label-arrow\">RandomForestClassifier</label><div class=\"sk-toggleable__content\"><pre>RandomForestClassifier()</pre></div></div></div></div></div></div></div></div></div></div>"
      ],
      "text/plain": [
       "GridSearchCV(cv=5, estimator=RandomForestClassifier(),\n",
       "             param_grid={'max_depth': [15, 30], 'max_features': [10, 20],\n",
       "                         'min_samples_leaf': [200], 'n_estimators': [25, 50],\n",
       "                         'n_jobs': [1]})"
      ]
     },
     "execution_count": 35,
     "metadata": {},
     "output_type": "execute_result"
    }
   ],
   "source": [
    "# Modèle 3: RandomForestClassifier\n",
    "from sklearn.ensemble import RandomForestClassifier\n",
    "#rf=RandomForestClassifier(max_depth= 15, max_features=10, n_jobs= -1, min_samples_leaf= 200,n_estimators=100)\n",
    "#param_grid={\"max_depth\":[15,20,25,30], 'max_features':[10,15,20], 'n_jobs': [1], 'min_samples_leaf' : [200],'n_estimators':[25,50,75,100]} \n",
    "param_grid={\"max_depth\":[15,30], 'max_features':[10,20], 'n_jobs': [1], 'min_samples_leaf' : [200],'n_estimators':[25,50]} \n",
    "grid_RF=GridSearchCV(RandomForestClassifier(), param_grid, cv=5)\n",
    "grid_RF.fit(X_ro,y_ro)"
   ]
  },
  {
   "cell_type": "code",
   "execution_count": 36,
   "id": "bfa31979",
   "metadata": {
    "scrolled": true
   },
   "outputs": [
    {
     "name": "stdout",
     "output_type": "stream",
     "text": [
      "{'max_depth': 30, 'max_features': 20, 'min_samples_leaf': 200, 'n_estimators': 25, 'n_jobs': 1}\n"
     ]
    }
   ],
   "source": [
    "print(grid_RF.best_params_)"
   ]
  },
  {
   "cell_type": "code",
   "execution_count": 43,
   "id": "162254a7",
   "metadata": {
    "scrolled": true
   },
   "outputs": [
    {
     "name": "stdout",
     "output_type": "stream",
     "text": [
      "[1 0 0 ... 0 0 0]\n",
      "CPU times: user 25min 34s, sys: 10.4 s, total: 25min 44s\n",
      "Wall time: 29min 23s\n"
     ]
    }
   ],
   "source": [
    "%%time\n",
    "grid_RF.fit(X_ro, y_ro)\n",
    "predictions_rf= grid_RF.predict(X_test)\n",
    "print(predictions_rf)"
   ]
  },
  {
   "cell_type": "code",
   "execution_count": 59,
   "id": "b4cb9b48",
   "metadata": {
    "scrolled": true
   },
   "outputs": [
    {
     "name": "stdout",
     "output_type": "stream",
     "text": [
      "Roc Auc Score: 0.7686717937307946\n",
      "Accuracy du modèle 3 est de : 0.9531482645667207\n",
      "La précision du modèle 3 est de : 0.9406420351302242\n",
      "Le Score F1 du modèle 3 est de : 0.6868642193719594\n"
     ]
    }
   ],
   "source": [
    "print('Roc Auc Score:', roc_auc_score(y_test, rf.predict(X_test)))\n",
    "print('Accuracy du modèle 3 est de :', accuracy_score(y_test,predictions_rf))\n",
    "print('La précision du modèle 3 est de :', precision_score(y_test,predictions_rf))\n",
    "print('Le Score F1 du modèle 3 est de :', f1_score(y_test,predictions_rf))"
   ]
  },
  {
   "cell_type": "code",
   "execution_count": null,
   "id": "9c6c22d3",
   "metadata": {},
   "outputs": [],
   "source": [
    "filename1 = \"modeltest1.sav\"\n",
    "pickle.dump(gridsearch_LG, open(filename1, 'wb'))"
   ]
  },
  {
   "cell_type": "code",
   "execution_count": null,
   "id": "1e5ba97f",
   "metadata": {},
   "outputs": [],
   "source": [
    "filename2 = \"modeltest2.sav\"\n",
    "pickle.dump(gridsearch, open(filename2, 'wb'))"
   ]
  },
  {
   "cell_type": "code",
   "execution_count": 3,
   "id": "21b1b36a",
   "metadata": {},
   "outputs": [
    {
     "ename": "NameError",
     "evalue": "name 'grid_RF' is not defined",
     "output_type": "error",
     "traceback": [
      "\u001b[0;31m---------------------------------------------------------------------------\u001b[0m",
      "\u001b[0;31mNameError\u001b[0m                                 Traceback (most recent call last)",
      "\u001b[0;32m/var/folders/8l/ntsj_13s12x97qhbjly0xdkr0000gn/T/ipykernel_1837/2927254264.py\u001b[0m in \u001b[0;36m<module>\u001b[0;34m\u001b[0m\n\u001b[1;32m      1\u001b[0m \u001b[0mfilename\u001b[0m \u001b[0;34m=\u001b[0m \u001b[0;34m\"modeltest.sav\"\u001b[0m\u001b[0;34m\u001b[0m\u001b[0;34m\u001b[0m\u001b[0m\n\u001b[0;32m----> 2\u001b[0;31m \u001b[0mpickle\u001b[0m\u001b[0;34m.\u001b[0m\u001b[0mdump\u001b[0m\u001b[0;34m(\u001b[0m\u001b[0mgrid_RF\u001b[0m\u001b[0;34m,\u001b[0m \u001b[0mopen\u001b[0m\u001b[0;34m(\u001b[0m\u001b[0mfilename\u001b[0m\u001b[0;34m,\u001b[0m \u001b[0;34m'wb'\u001b[0m\u001b[0;34m)\u001b[0m\u001b[0;34m)\u001b[0m\u001b[0;34m\u001b[0m\u001b[0;34m\u001b[0m\u001b[0m\n\u001b[0m",
      "\u001b[0;31mNameError\u001b[0m: name 'grid_RF' is not defined"
     ]
    }
   ],
   "source": [
    "filename3 = \"modeltest3.sav\"\n",
    "pickle.dump(grid_RF, open(filename3, 'wb'))"
   ]
  },
  {
   "cell_type": "markdown",
   "id": "f333d096",
   "metadata": {},
   "source": [
    "# Comparativement au KneighborsClassifier modèle, celui du RandomForestClassifier semble donner de meilleurs résultats au regard notamment de la métrique precision et du F1 aussi."
   ]
  },
  {
   "cell_type": "markdown",
   "id": "86edf4cf",
   "metadata": {},
   "source": [
    "# Etape 5 : Pistes d'avancements"
   ]
  },
  {
   "cell_type": "code",
   "execution_count": null,
   "id": "9f4e48e9",
   "metadata": {},
   "outputs": [],
   "source": [
    "# Split plus intelligent\n",
    "from sklearn.model_selection import TimeSeriesSplit, KFold\n",
    "n_folds = 5\n",
    "folds= TimeSeriesSplit(n_splits=n_folds)\n",
    "folds=KFold(n_splits = 5)"
   ]
  },
  {
   "cell_type": "markdown",
   "id": "546f4259",
   "metadata": {},
   "source": [
    "Les modèles de Machine Learning ayant besoin de données numériques, nous avons besoin de faire du Feature Engineering sur les variables de temps"
   ]
  },
  {
   "cell_type": "code",
   "execution_count": null,
   "id": "5044fdcb",
   "metadata": {},
   "outputs": [],
   "source": [
    "# Feature engineering sur la variable connected_time\n",
    "\n",
    "Col_time=['signup_time', 'purchase_time', 'connected_time'] \n",
    "transactions['connected_days']= transactions['connected_time'].astype(str).apply(lambda x : x.split('days')[0])\n",
    "transactions['connected_hours']= transactions['connected_time'].astype(str).apply(lambda x : x.split('days')[1].split(':')[0])\n",
    "transactions['connected_minutes']= transactions['connected_time'].astype(str).apply(lambda x : x.split('days')[1].split(':')[1])\n",
    "transactions['connected_seconds']= transactions['connected_time'].astype(str).apply(lambda x : x.split('days')[1].split(':')[2])\n",
    "transactions['connected_hours']"
   ]
  },
  {
   "cell_type": "markdown",
   "id": "d6758876",
   "metadata": {},
   "source": [
    "# Selon les résultats du tableau ci-dessus , il semblerait que le modèle aurait dû mal à prédire les défauts.La cause étant sûrement le désequilibre entre les données dont nous avions fait état plus haut.Il faudrait sûrement une méthode de split meilleure que le Train_test_split usuel"
   ]
  },
  {
   "cell_type": "markdown",
   "id": "f6fb88c1",
   "metadata": {},
   "source": [
    " La variable connected_time comme différence des 2 variables signup_time et purchase_time contient ces informations en son sein hormis si il y'aurait une dépendance entre le moment de connexion et l'occurence d'une fraude.\n",
    "    On pourrait donc se séparer de ces 2 dernières"
   ]
  },
  {
   "cell_type": "code",
   "execution_count": null,
   "id": "5ebafc09",
   "metadata": {
    "scrolled": true
   },
   "outputs": [],
   "source": [
    "#Feature Selection\n",
    "#Retrait des colonnes signup_time et purchase_time\n",
    "transactions.drop(['signup_time','purchase_time','connected_time'], axis = 1, inplace = True)\n",
    "\n",
    "#Retrait des colonnes 'device_id','browser','source','ip_address'\n",
    "transactions.drop(['device_id','browser','source','ip_address'], axis = 1, inplace = True)\n",
    "transactions.head()\n",
    "\n"
   ]
  },
  {
   "cell_type": "code",
   "execution_count": null,
   "id": "86cfa887",
   "metadata": {},
   "outputs": [],
   "source": [
    "transactions.columns"
   ]
  },
  {
   "cell_type": "code",
   "execution_count": null,
   "id": "712fe46f",
   "metadata": {},
   "outputs": [],
   "source": [
    "# Librairies de preprocessing\n",
    "from sklearn.impute import SimpleImputer # non vu pendant la formation mais potentiellement utilise pour le futur\n",
    "from sklearn.preprocessing import OneHotEncoder\n",
    "from sklearn.feature_extraction.text import CountVectorizer\n",
    "from sklearn.compose import make_column_transformer # non vu pendant la formation mais potentiellement utilise pour le futur\n",
    "from sklearn.pipeline import make_pipeline, Pipeline\n",
    "from sklearn.preprocessing import FunctionTransformer # non vu pendant la formation mais potentiellement utilise pour le futur"
   ]
  },
  {
   "cell_type": "code",
   "execution_count": null,
   "id": "4cd1d142",
   "metadata": {},
   "outputs": [],
   "source": [
    "# Colonnes à supprimer\n",
    "drop_colonnes = ['device_id','browser','source','ip_address','signup_time','purchase_time','connected_time']\n",
    "\n",
    "# Colonnes à laisser en l'état\n",
    "passthrough_colonnes = ['user_id', 'purchase_value', 'age', 'is_fraud', 'connected_days',\n",
    "       'connected_hours', 'connected_minutes', 'connected_seconds']\n",
    "\n",
    "\n",
    "colonnes_categorielles = ['sex']\n"
   ]
  },
  {
   "cell_type": "code",
   "execution_count": null,
   "id": "83caefa4",
   "metadata": {},
   "outputs": [],
   "source": [
    "def time_transformation(purchase, start_time):\n",
    "    f=\"%Y-%m-%d %H:%M:%S\"\n",
    "    connected_time = datetime.datetime.strptime(purchase,f) - datetime.datetime.strptime(start_time,f)\n",
    "    connected_days = connected_time.astype(str).apply(lambda x : x.split('days')[0])\n",
    "    connected_hours = connected_time.astype(str).apply(lambda x : x.split('days')[1].split(':')[0])\n",
    "    connected_minutes = connected_time.astype(str).apply(lambda x : x.split('days')[1].split(':')[1])\n",
    "    connected_seconds = connected_time.astype(str).apply(lambda x : x.split('days')[1].split(':')[2])\n",
    "    return connected_days, connected_hours, connected_minutes, connected_seconds\n",
    "# Traitement purchase_time et\n",
    "Creer_variables_temporelles = make_pipeline(\n",
    "    FunctionTransformer(time_transformation), # Etape 1: Création des 5 colonnes de temps à partir des 2 colonnes initiales ci-dessus citées\n",
    ")\n",
    "Creer_variables_temporelles"
   ]
  },
  {
   "cell_type": "code",
   "execution_count": null,
   "id": "cd2dacf9",
   "metadata": {},
   "outputs": [],
   "source": [
    "# Pipeline global: Appication du Pipeline au jeu de données d'un seul coup\n",
    "data_preprocessing = make_column_transformer(\n",
    "    ( LabelEncoder(), colonnes_categorielles ),\n",
    "    ( Creer_variables_temporelles, 'purchase_time','signup_time'),\n",
    "    ( 'drop' , drop_colonnes),\n",
    "    ( 'passthrough' , passthrough_colonnes),\n",
    ")\n"
   ]
  }
 ],
 "metadata": {
  "kernelspec": {
   "display_name": "Python 3.10.1 64-bit",
   "language": "python",
   "name": "python3"
  },
  "language_info": {
   "codemirror_mode": {
    "name": "ipython",
    "version": 3
   },
   "file_extension": ".py",
   "mimetype": "text/x-python",
   "name": "python",
   "nbconvert_exporter": "python",
   "pygments_lexer": "ipython3",
   "version": "3.10.1"
  },
  "vscode": {
   "interpreter": {
    "hash": "aee8b7b246df8f9039afb4144a1f6fd8d2ca17a180786b69acc140d282b71a49"
   }
  }
 },
 "nbformat": 4,
 "nbformat_minor": 5
}
